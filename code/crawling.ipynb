{
 "cells": [
  {
   "cell_type": "code",
   "execution_count": 11,
   "id": "e5fe6347",
   "metadata": {},
   "outputs": [],
   "source": [
    "import requests\n",
    "from urllib import parse\n",
    "import pandas as pd\n",
    "from bs4 import BeautifulSoup\n",
    "from datetime import datetime \n",
    "\n",
    "def getHoliday(year):\n",
    "    url = \"http://apis.data.go.kr/B090041/openapi/service/SpcdeInfoService/getAnniversaryInfo\"\n",
    "    api_key_utf8 = 'yNn1SVQGgJeAnb5M8oyK//N9wu0L7h/Ou+1omKfWOhCaZVWeFBvyEdJ0ATHPIp4FYKrIF7jD3CeZF+shPVCEXQ=='\n",
    "    api_key_decode = parse.unquote(api_key_utf8)\n",
    "\n",
    "    url_holiday = url + \"getRestDeInfo\"\n",
    "    params = {\n",
    "        'ServiceKey' : api_key_decode,\n",
    "        'solYear' : year,\n",
    "        'numOFRows' : 100\n",
    "    }\n",
    "\n",
    "    response = requests.get(url, params=params)\n",
    "    xml = BeautifulSoup(response.text, 'lxml')\n",
    "    items = xml.find('items')\n",
    "    item_list = []\n",
    "    for item in items:\n",
    "        item_dict = {\n",
    "            '이름' : item.find('datename').text.strip(),\n",
    "            '날짜' : datetime.strptime(item.find('locdate').text.strip(), '%Y%m%d')\n",
    "        }\n",
    "        item_list.append(item_dict)\n",
    "\n",
    "    return pd.DataFrame(item_list)"
   ]
  },
  {
   "cell_type": "code",
   "execution_count": 12,
   "id": "6240f18c",
   "metadata": {},
   "outputs": [
    {
     "name": "stderr",
     "output_type": "stream",
     "text": [
      "C:\\Users\\user\\AppData\\Local\\Temp\\ipykernel_24244\\2696970768.py:20: XMLParsedAsHTMLWarning: It looks like you're parsing an XML document using an HTML parser. If this really is an HTML document (maybe it's XHTML?), you can ignore or filter this warning. If it's XML, you should know that using an XML parser will be more reliable. To parse this document as XML, make sure you have the lxml package installed, and pass the keyword argument `features=\"xml\"` into the BeautifulSoup constructor.\n",
      "  xml = BeautifulSoup(response.text, 'lxml')\n"
     ]
    },
    {
     "data": {
      "text/html": [
       "<div>\n",
       "<style scoped>\n",
       "    .dataframe tbody tr th:only-of-type {\n",
       "        vertical-align: middle;\n",
       "    }\n",
       "\n",
       "    .dataframe tbody tr th {\n",
       "        vertical-align: top;\n",
       "    }\n",
       "\n",
       "    .dataframe thead th {\n",
       "        text-align: right;\n",
       "    }\n",
       "</style>\n",
       "<table border=\"1\" class=\"dataframe\">\n",
       "  <thead>\n",
       "    <tr style=\"text-align: right;\">\n",
       "      <th></th>\n",
       "      <th>이름</th>\n",
       "      <th>날짜</th>\n",
       "    </tr>\n",
       "  </thead>\n",
       "  <tbody>\n",
       "    <tr>\n",
       "      <th>0</th>\n",
       "      <td>2·28 민주운동 기념일</td>\n",
       "      <td>2021-02-28</td>\n",
       "    </tr>\n",
       "    <tr>\n",
       "      <th>1</th>\n",
       "      <td>납세자의 날</td>\n",
       "      <td>2021-03-03</td>\n",
       "    </tr>\n",
       "    <tr>\n",
       "      <th>2</th>\n",
       "      <td>3·8민주의거 기념일</td>\n",
       "      <td>2021-03-08</td>\n",
       "    </tr>\n",
       "    <tr>\n",
       "      <th>3</th>\n",
       "      <td>3·15 의거 기념일</td>\n",
       "      <td>2021-03-15</td>\n",
       "    </tr>\n",
       "    <tr>\n",
       "      <th>4</th>\n",
       "      <td>상공의 날</td>\n",
       "      <td>2021-03-17</td>\n",
       "    </tr>\n",
       "    <tr>\n",
       "      <th>5</th>\n",
       "      <td>서해수호의 날</td>\n",
       "      <td>2021-03-26</td>\n",
       "    </tr>\n",
       "    <tr>\n",
       "      <th>6</th>\n",
       "      <td>예비군의 날</td>\n",
       "      <td>2021-04-02</td>\n",
       "    </tr>\n",
       "    <tr>\n",
       "      <th>7</th>\n",
       "      <td>4·3희생자 추념일</td>\n",
       "      <td>2021-04-03</td>\n",
       "    </tr>\n",
       "    <tr>\n",
       "      <th>8</th>\n",
       "      <td>식목일</td>\n",
       "      <td>2021-04-05</td>\n",
       "    </tr>\n",
       "    <tr>\n",
       "      <th>9</th>\n",
       "      <td>보건의 날</td>\n",
       "      <td>2021-04-07</td>\n",
       "    </tr>\n",
       "  </tbody>\n",
       "</table>\n",
       "</div>"
      ],
      "text/plain": [
       "              이름         날짜\n",
       "0  2·28 민주운동 기념일 2021-02-28\n",
       "1         납세자의 날 2021-03-03\n",
       "2    3·8민주의거 기념일 2021-03-08\n",
       "3    3·15 의거 기념일 2021-03-15\n",
       "4          상공의 날 2021-03-17\n",
       "5        서해수호의 날 2021-03-26\n",
       "6         예비군의 날 2021-04-02\n",
       "7     4·3희생자 추념일 2021-04-03\n",
       "8            식목일 2021-04-05\n",
       "9          보건의 날 2021-04-07"
      ]
     },
     "execution_count": 12,
     "metadata": {},
     "output_type": "execute_result"
    }
   ],
   "source": [
    "getHoliday(2021)"
   ]
  },
  {
   "cell_type": "code",
   "execution_count": null,
   "id": "fa4230e7",
   "metadata": {},
   "outputs": [],
   "source": []
  }
 ],
 "metadata": {
  "kernelspec": {
   "display_name": "base",
   "language": "python",
   "name": "python3"
  },
  "language_info": {
   "codemirror_mode": {
    "name": "ipython",
    "version": 3
   },
   "file_extension": ".py",
   "mimetype": "text/x-python",
   "name": "python",
   "nbconvert_exporter": "python",
   "pygments_lexer": "ipython3",
   "version": "3.13.5"
  }
 },
 "nbformat": 4,
 "nbformat_minor": 5
}
