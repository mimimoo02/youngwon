{
 "cells": [
  {
   "cell_type": "code",
   "execution_count": null,
   "id": "4df4edff",
   "metadata": {},
   "outputs": [],
   "source": [
    "# ================================================================================================\n",
    "# 셀 1: 모든 Import 및 모든 함수 정의\n",
    "# ================================================================================================\n",
    "\n",
    "# --- Part 1: Import 및 설정 ---\n",
    "import os, sys, platform, random, time, json, warnings\n",
    "from datetime import datetime\n",
    "import numpy as np\n",
    "import pandas as pd\n",
    "import matplotlib.pyplot as plt\n",
    "import seaborn as sns\n",
    "from tqdm import tqdm\n",
    "from scipy import stats\n",
    "import joblib\n",
    "\n",
    "# sklearn\n",
    "from sklearn.ensemble import (\n",
    "    RandomForestRegressor, GradientBoostingRegressor,\n",
    "    RandomForestClassifier, GradientBoostingClassifier,\n",
    ")\n",
    "from sklearn.linear_model import LinearRegression, LogisticRegression\n",
    "from sklearn.model_selection import train_test_split, StratifiedShuffleSplit\n",
    "from sklearn.preprocessing import StandardScaler\n",
    "from sklearn.impute import SimpleImputer\n",
    "from sklearn.pipeline import Pipeline\n",
    "from sklearn.metrics import (\n",
    "    mean_absolute_error, mean_squared_error, r2_score,\n",
    "    accuracy_score, f1_score,\n",
    ")\n",
    "\n",
    "# 선택적 라이브러리 확인\n",
    "try:\n",
    "    import xgboost as xgb; HAS_XGB = True\n",
    "except ImportError:\n",
    "    HAS_XGB = False; print(\"XGBoost 미설치 → 건너뜀\")\n",
    "try:\n",
    "    import lightgbm as lgb; HAS_LGB = True\n",
    "except ImportError:\n",
    "    HAS_LGB = False; print(\"LightGBM 미설치 → 건너뜀\")\n",
    "try:\n",
    "    import catboost as cb; HAS_CATBOOST = True\n",
    "except ImportError:\n",
    "    HAS_CATBOOST = False; print(\"CatBoost 미설치 → 건너뜀\")\n",
    "\n",
    "# 경고 필터 및 폰트 설정\n",
    "warnings.filterwarnings(\"ignore\")\n",
    "try:\n",
    "    plt.rcParams['font.family'] = 'AppleGothic' # 맥\n",
    "except Exception:\n",
    "    plt.rcParams['font.family'] ='Malgun Gothic' # 윈도우\n",
    "plt.rcParams['axes.unicode_minus'] = False\n"
   ]
  },
  {
   "cell_type": "code",
   "execution_count": null,
   "id": "83cc6cf1",
   "metadata": {},
   "outputs": [],
   "source": [
    "\n",
    "\n",
    "# --- Part 2: 모든 보조 함수 정의 ---\n",
    "\n",
    "# 모델 정의\n",
    "# ================================================================================================\n",
    "# 2. 모델 정의 함수들 (오류 수정됨)\n",
    "# ================================================================================================\n",
    "def build_regression_models():\n",
    "    \"\"\"회귀 모델들\"\"\"\n",
    "    models = {}\n",
    "    \n",
    "    models[\"RandomForest_Reg\"] = RandomForestRegressor(\n",
    "        n_estimators=300, min_samples_leaf=2, random_state=42, n_jobs=-1\n",
    "    )\n",
    "    \n",
    "    models[\"LinearRegression\"] = LinearRegression()\n",
    "    \n",
    "    models[\"GradientBoosting_Reg\"] = GradientBoostingRegressor(\n",
    "        n_estimators=200, learning_rate=0.1, random_state=42\n",
    "    )\n",
    "    \n",
    "    if HAS_XGB:\n",
    "        models[\"XGBoost_Reg\"] = xgb.XGBRegressor(\n",
    "            n_estimators=400, max_depth=5, learning_rate=0.05,\n",
    "            subsample=0.8, colsample_bytree=0.8,\n",
    "            random_state=42, n_jobs=-1, verbosity=0\n",
    "        )\n",
    "    \n",
    "    if HAS_LGB:\n",
    "        models[\"LightGBM_Reg\"] = lgb.LGBMRegressor(\n",
    "            n_estimators=500, learning_rate=0.05,\n",
    "            subsample=0.8, colsample_bytree=0.8,\n",
    "            random_state=42, n_jobs=-1, verbosity=-1\n",
    "        )\n",
    "    \n",
    "    # 수정: 회귀 모델로 정정\n",
    "    if HAS_CATBOOST:\n",
    "        models[\"CatBoost_Reg\"] = cb.CatBoostRegressor(\n",
    "            iterations=500, learning_rate=0.05, depth=6,\n",
    "            random_state=42, verbose=False\n",
    "        )\n",
    "    \n",
    "    return models\n",
    "\n",
    "def build_classification_models():\n",
    "    \"\"\"분류 모델들 (4등급)\"\"\"\n",
    "    models = {}\n",
    "    \n",
    "    models[\"RandomForest_Clf\"] = RandomForestClassifier(\n",
    "        n_estimators=300, min_samples_leaf=2, random_state=42, \n",
    "        n_jobs=-1, class_weight='balanced'\n",
    "    )\n",
    "    \n",
    "    models[\"GradientBoosting_Clf\"] = GradientBoostingClassifier(\n",
    "        n_estimators=200, learning_rate=0.1, random_state=42\n",
    "    )\n",
    "    \n",
    "    models[\"LogisticRegression_Clf\"] = LogisticRegression(\n",
    "        multi_class=\"multinomial\", solver=\"lbfgs\", max_iter=1000,\n",
    "        random_state=42, class_weight='balanced'\n",
    "    )\n",
    "    \n",
    "    if HAS_XGB:\n",
    "        models[\"XGBoost_Clf\"] = xgb.XGBClassifier(\n",
    "            n_estimators=400, max_depth=5, learning_rate=0.05,\n",
    "            subsample=0.8, colsample_bytree=0.8,\n",
    "            objective=\"multi:softprob\", num_class=4,\n",
    "            tree_method=\"hist\", random_state=42, n_jobs=-1, verbosity=0\n",
    "        )\n",
    "    \n",
    "    if HAS_LGB:\n",
    "        models[\"LightGBM_Clf\"] = lgb.LGBMClassifier(\n",
    "            n_estimators=500, learning_rate=0.05,\n",
    "            subsample=0.8, colsample_bytree=0.8,\n",
    "            objective=\"multiclass\", num_class=4,\n",
    "            random_state=42, n_jobs=-1, verbosity=-1, is_unbalance=True\n",
    "        )\n",
    "    \n",
    "    # 수정: auto_class_weights로 정정\n",
    "    if HAS_CATBOOST:\n",
    "        models[\"CatBoost_Clf\"] = cb.CatBoostClassifier(\n",
    "            iterations=500, learning_rate=0.05, depth=6,\n",
    "            random_state=42, verbose=False, auto_class_weights='Balanced'\n",
    "        )\n",
    "    \n",
    "    return models\n",
    "\n",
    "\n",
    "# 데이터 처리 및 평가\n",
    "def make_pipeline_unified(model, model_name, model_type):\n",
    "    \"\"\"통합 전처리 파이프라인\"\"\"\n",
    "    if model_name in [\"LinearRegression\", \"LogisticRegression_Clf\"]:\n",
    "        # 선형 모델은 정규화 필요\n",
    "        pre = Pipeline(steps=[\n",
    "            (\"imputer\", SimpleImputer(strategy=\"median\")),\n",
    "            (\"scaler\", StandardScaler()),\n",
    "        ])\n",
    "    else:\n",
    "        # 트리 기반 모델들은 정규화 불필요\n",
    "        pre = Pipeline(steps=[\n",
    "            (\"imputer\", SimpleImputer(strategy=\"median\")),\n",
    "        ])\n",
    "    return Pipeline(steps=[(\"pre\", pre), (\"model\", model)])\n",
    "\n",
    "def prepare_data_stratified(df, target_col, model_type, test_size=0.2, split_method='stratified'):\n",
    "    \"\"\"\n",
    "    데이터 준비 - Stratified vs 시계열 분할 선택 가능\n",
    "    \n",
    "    Parameters:\n",
    "    - split_method: 'stratified' 또는 'temporal'\n",
    "    \"\"\"\n",
    "    work = df.sort_values('날짜').reset_index(drop=True).copy()\n",
    "    dates = pd.to_datetime(work['날짜'])\n",
    "\n",
    "    # 제외할 컬럼들\n",
    "    not_use_col = [\n",
    "        '날짜',\n",
    "        '1처리장','2처리장','정화조','중계펌프장','합계','시설현대화',\n",
    "        '3처리장','4처리장','합계', '합계_1일후','합계_2일후',\n",
    "        '등급','등급_1일후','등급_2일후'\n",
    "    ]\n",
    "    \n",
    "    drop_cols = [c for c in (set(not_use_col) | {target_col}) if c in work.columns]\n",
    "    X_raw = work.drop(columns=drop_cols, errors=\"ignore\")\n",
    "    \n",
    "    # 수치형 변환\n",
    "    for c in X_raw.columns:\n",
    "        X_raw[c] = pd.to_numeric(X_raw[c], errors=\"coerce\")\n",
    "\n",
    "    if model_type == \"regression\":\n",
    "        y = pd.to_numeric(work[target_col], errors=\"coerce\")\n",
    "    else:  # classification\n",
    "        y = work[target_col].astype(\"int64\")\n",
    "\n",
    "    # 결측치 제거\n",
    "    valid_idx = (~X_raw.isnull().all(axis=1)) & (~pd.isnull(y))\n",
    "    X_raw = X_raw[valid_idx].reset_index(drop=True)\n",
    "    y = y[valid_idx].reset_index(drop=True)\n",
    "    dates = dates[valid_idx].reset_index(drop=True)\n",
    "    \n",
    "    if split_method == 'stratified':\n",
    "        # Stratified 분할 (분류에만 적용, 회귀는 일반 random split)\n",
    "        if model_type == \"classification\":\n",
    "            # 등급별 균등 분할\n",
    "            sss = StratifiedShuffleSplit(n_splits=1, test_size=test_size, random_state=42)\n",
    "            train_idx, test_idx = next(sss.split(X_raw, y))\n",
    "        else:\n",
    "            # 회귀는 일반 랜덤 분할 (연속값이므로 stratify 불가)\n",
    "            train_idx, test_idx = train_test_split(\n",
    "                range(len(X_raw)), test_size=test_size, random_state=42\n",
    "            )\n",
    "            \n",
    "        X_train, X_test = X_raw.iloc[train_idx].copy(), X_raw.iloc[test_idx].copy()\n",
    "        y_train, y_test = y.iloc[train_idx].copy(), y.iloc[test_idx].copy()\n",
    "        dates_train, dates_test = dates.iloc[train_idx].copy(), dates.iloc[test_idx].copy()\n",
    "        \n",
    "    else:  # temporal split\n",
    "        # 기존 시계열 분할\n",
    "        n = len(X_raw) # len(work)\n",
    "        split = int(n * (1 - test_size))\n",
    "        X_train, X_test = X_raw.iloc[:split].copy(), X_raw.iloc[split:].copy()\n",
    "        y_train, y_test = y.iloc[:split].copy(), y.iloc[split:].copy()\n",
    "        dates_train, dates_test = dates.iloc[:split].copy(), dates.iloc[split:].copy()\n",
    "\n",
    "    feature_names = list(X_raw.columns)\n",
    "    return X_train, X_test, y_train, y_test, feature_names, dates_train, dates_test\n",
    "\n",
    "def evaluate_regression_model(model, model_name, X_train, X_test, y_train, y_test):\n",
    "    \"\"\"회귀 모델 평가 (수정됨)\"\"\"\n",
    "    try:\n",
    "        pipe = make_pipeline_unified(model, model_name, \"regression\")\n",
    "        pipe.fit(X_train, y_train)\n",
    "        \n",
    "        y_pred = pipe.predict(X_test)\n",
    "        \n",
    "        mae = mean_absolute_error(y_test, y_pred)\n",
    "        rmse = np.sqrt(mean_squared_error(y_test, y_pred))\n",
    "        r2 = r2_score(y_test, y_pred)\n",
    "        \n",
    "        # MAPE (Mean Absolute Percentage Error)\n",
    "        mape = np.mean(np.abs((y_test - y_pred) / (y_test + 1e-8))) * 100\n",
    "        \n",
    "        # 올바른 return 문\n",
    "        return {\n",
    "            'model': model_name,\n",
    "            'type': 'regression',\n",
    "            'mae': mae,         # ← 계산된 값 사용\n",
    "            'rmse': rmse,       # ← 계산된 값 사용\n",
    "            'r2': r2,           # ← 계산된 값 사용\n",
    "            'mape': mape,       # ← 계산된 값 사용\n",
    "            'success': True     # ← 성공 시 True\n",
    "        }, pipe, y_pred\n",
    "        \n",
    "    except Exception as e:\n",
    "        # 실패 시에만 이 부분 실행\n",
    "        return {\n",
    "            'model': model_name,\n",
    "            'type': 'regression',\n",
    "            'mae': np.nan,\n",
    "            'rmse': np.nan,\n",
    "            'r2': np.nan,\n",
    "            'mape': np.nan,\n",
    "            'success': False,\n",
    "            'error': str(e)\n",
    "        }, None, None\n",
    "        \n",
    "def evaluate_classification_model(model, model_name, X_train, X_test, y_train, y_test):\n",
    "    \"\"\"분류 모델 평가\"\"\"\n",
    "    try:\n",
    "        pipe = make_pipeline_unified(model, model_name, \"classification\")\n",
    "        pipe.fit(X_train, y_train)\n",
    "        \n",
    "        y_pred = pipe.predict(X_test)\n",
    "        \n",
    "        # 차원 문제 해결\n",
    "        if isinstance(y_pred, np.ndarray) and y_pred.ndim > 1:\n",
    "            y_pred = y_pred.ravel()\n",
    "        \n",
    "        acc = accuracy_score(y_test, y_pred)\n",
    "        f1_macro = f1_score(y_test, y_pred, average=\"macro\", zero_division=0)\n",
    "        f1_weighted = f1_score(y_test, y_pred, average=\"weighted\", zero_division=0)\n",
    "        \n",
    "        # 극값 분류 성능 (등급 0, 3로 수정: 0-base 변환 때문에)\n",
    "        extreme_classes = [0, 3]  # 원래 1,4가 0,3으로 변환됨\n",
    "        y_true_extreme = pd.Series(y_test).isin(extreme_classes).astype(int)\n",
    "        y_pred_extreme = pd.Series(y_pred).isin(extreme_classes).astype(int)\n",
    "        extreme_f1 = f1_score(y_true_extreme, y_pred_extreme, zero_division=0)\n",
    "        \n",
    "        return {\n",
    "            'model': model_name,\n",
    "            'type': 'classification',\n",
    "            'accuracy': acc,\n",
    "            'macro_f1': f1_macro,\n",
    "            'weighted_f1': f1_weighted,\n",
    "            'extreme_f1': extreme_f1,\n",
    "            'success': True\n",
    "        }, pipe, y_pred\n",
    "        \n",
    "    except Exception as e:\n",
    "        return {\n",
    "            'model': model_name,\n",
    "            'type': 'classification',\n",
    "            'accuracy': np.nan,\n",
    "            'macro_f1': np.nan,\n",
    "            'weighted_f1': np.nan,\n",
    "            'extreme_f1': np.nan,\n",
    "            'success': False,\n",
    "            'error': str(e)\n",
    "        }, None, None\n",
    "\n",
    "def comprehensive_evaluation_comparison(center_name, df):\n",
    "    \"\"\"Stratified vs 시계열 분할 비교 평가\"\"\"\n",
    "    print(f\"\\n{'='*70}\")\n",
    "    print(f\"센터: {center_name} - Stratified vs 시계열 분할 비교\")\n",
    "    print(f\"{'='*70}\")\n",
    "    \n",
    "    # 데이터 확인\n",
    "    print(f\"데이터 크기: {len(df)}행, {len(df.columns)}컬럼\")\n",
    "    \n",
    "    # 등급 분포 확인\n",
    "    if '등급_1일후' in df.columns:\n",
    "        grade_dist = df['등급_1일후'].value_counts().sort_index()\n",
    "        print(f\"등급 분포: {dict(grade_dist)}\")\n",
    "        \n",
    "        # 불균형 정도 확인\n",
    "        min_class = grade_dist.min()\n",
    "        max_class = grade_dist.max()\n",
    "        imbalance_ratio = max_class / min_class\n",
    "        print(f\"클래스 불균형 비율: {imbalance_ratio:.1f}:1 (최대:{max_class}, 최소:{min_class})\")\n",
    "    \n",
    "    results = []\n",
    "    \n",
    "    # 두 가지 분할 방법 비교\n",
    "    for split_method in ['temporal', 'stratified']:\n",
    "        print(f\"\\n{'='*50}\")\n",
    "        print(f\"분할 방법: {split_method.upper()}\")\n",
    "        print(f\"{'='*50}\")\n",
    "        \n",
    "        # =========================\n",
    "        # 1. 회귀 모델 평가\n",
    "        # =========================\n",
    "        reg_method_name = \"random_shuffle\" if split_method == \"stratified\" else split_method\n",
    "        print(f\"\\n--- 회귀 모델 평가 ({reg_method_name}) ---\")\n",
    "        \n",
    "        try:\n",
    "            X_train, X_test, y_train, y_test, feature_names, dates_train, dates_test = prepare_data_stratified(\n",
    "                df, target_col=\"합계_1일후\", model_type=\"regression\", test_size=0.2, split_method=split_method\n",
    "            )\n",
    "            \n",
    "            print(f\"회귀용 데이터: 학습 {len(X_train)}행, 테스트 {len(X_test)}행\")\n",
    "            \n",
    "            regression_models = build_regression_models()\n",
    "            \n",
    "            for model_name, model in tqdm(regression_models.items(), desc=f\"회귀({reg_method_name})\", leave=False):\n",
    "                result, pipe, y_pred = evaluate_regression_model(model, model_name, X_train, X_test, y_train, y_test)\n",
    "                result['center'] = center_name\n",
    "                result['split_method'] = split_method\n",
    "                results.append(result)\n",
    "                \n",
    "                if result['success']:\n",
    "                    print(f\"  {model_name:18s}: R²={result['r2']:.3f}, MAE={result['mae']:.0f}, MAPE={result['mape']:.1f}%\")\n",
    "                else:\n",
    "                    print(f\"  {model_name:18s}: 실패 - {result.get('error', '')[:50]}\")\n",
    "                    \n",
    "        except Exception as e:\n",
    "            print(f\"회귀 모델 평가 실패 ({reg_method_name}): {e}\")\n",
    "        \n",
    "        # =========================\n",
    "        # 2. 분류 모델 평가\n",
    "        # =========================\n",
    "        print(f\"\\n--- 분류 모델 평가 ({split_method}) ---\")\n",
    "        \n",
    "        try:\n",
    "            X_train_clf, X_test_clf, y_train_clf, y_test_clf, feature_names_clf, _, _ = prepare_data_stratified(\n",
    "                df, target_col=\"등급_1일후\", model_type=\"classification\", test_size=0.2, split_method=split_method\n",
    "            )\n",
    "            \n",
    "            print(f\"분류용 데이터: 학습 {len(X_train_clf)}행, 테스트 {len(X_test_clf)}행\")\n",
    "            \n",
    "            # 테스트 세트 등급 분포 확인\n",
    "            test_dist = pd.Series(y_test_clf).value_counts().sort_index()\n",
    "            train_dist = pd.Series(y_train_clf).value_counts().sort_index()\n",
    "            print(f\"학습 세트 등급 분포: {dict(train_dist)}\")\n",
    "            print(f\"테스트 세트 등급 분포: {dict(test_dist)}\")\n",
    "            \n",
    "            classification_models = build_classification_models()\n",
    "            \n",
    "            for model_name, model in tqdm(classification_models.items(), desc=f\"분류({split_method})\", leave=False):\n",
    "                result, pipe, y_pred = evaluate_classification_model(model, model_name, X_train_clf, X_test_clf, y_train_clf, y_test_clf)\n",
    "                result['center'] = center_name\n",
    "                result['split_method'] = split_method\n",
    "                results.append(result)\n",
    "                \n",
    "                if result['success']:\n",
    "                    print(f\"  {model_name:18s}: ACC={result['accuracy']:.3f}, F1={result['macro_f1']:.3f}, 극값F1={result['extreme_f1']:.3f}\")\n",
    "                else:\n",
    "                    print(f\"  {model_name:18s}: 실패 - {result.get('error', '')[:50]}\")\n",
    "                    \n",
    "        except Exception as e:\n",
    "            print(f\"분류 모델 평가 실패 ({split_method}): {e}\")\n",
    "    \n",
    "    return results\n",
    "\n",
    "\n",
    "# 최종 결과 처리 및 저장\n",
    "def create_final_results_table(all_predictions):\n",
    "    \"\"\"최종 결과 테이블 생성\"\"\"\n",
    "    results_df = pd.DataFrame(all_predictions)\n",
    "    # 날짜 정렬\n",
    "    results_df = results_df.sort_values(['date', 'center', 'task_type'])\n",
    "    # 평가 지표 계산\n",
    "    results_df = calculate_prediction_metrics_enhanced(results_df)\n",
    "    \n",
    "    return results_df\n",
    "\n",
    "def calculate_prediction_metrics_enhanced(results_df):\n",
    "    \"\"\"향상된 예측 평가 지표 계산\"\"\"\n",
    "    \n",
    "    results_df = results_df.copy()\n",
    "    \n",
    "    # 평가 지표 컬럼 초기화\n",
    "    results_df['absolute_error'] = None\n",
    "    results_df['squared_error'] = None\n",
    "    results_df['percentage_error'] = None\n",
    "    results_df['correct_prediction'] = None\n",
    "    results_df['residual'] = None\n",
    "    \n",
    "    for idx, row in results_df.iterrows():\n",
    "        if pd.isna(row['actual_value']) or pd.isna(row['predicted_value']):\n",
    "            continue\n",
    "            \n",
    "        actual = row['actual_value']\n",
    "        predicted = row['predicted_value']\n",
    "        \n",
    "        if row['task_type'] == 'regression':\n",
    "            # 회귀 평가 지표\n",
    "            residual = actual - predicted\n",
    "            abs_error = abs(residual)\n",
    "            sq_error = residual ** 2\n",
    "            pct_error = abs(residual) / (abs(actual) + 1e-8) * 100\n",
    "            \n",
    "            results_df.at[idx, 'residual'] = residual\n",
    "            results_df.at[idx, 'absolute_error'] = abs_error\n",
    "            results_df.at[idx, 'squared_error'] = sq_error\n",
    "            results_df.at[idx, 'percentage_error'] = pct_error\n",
    "            \n",
    "        else:  # classification\n",
    "            # 분류 평가 지표\n",
    "            correct = 1 if int(actual) == int(predicted) else 0\n",
    "            results_df.at[idx, 'correct_prediction'] = correct\n",
    "    \n",
    "    return results_df\n",
    "\n",
    "def create_performance_summary(results_df):\n",
    "    \"\"\"성능 요약 생성\"\"\"\n",
    "    \n",
    "    summary = {}\n",
    "    \n",
    "    for center in results_df['center'].unique():\n",
    "        center_data = results_df[results_df['center'] == center]\n",
    "        summary[center] = {}\n",
    "        \n",
    "        for task_type in ['regression', 'classification']:\n",
    "            task_data = center_data[center_data['task_type'] == task_type]\n",
    "            task_data_clean = task_data.dropna(subset=['actual_value', 'predicted_value'])\n",
    "            \n",
    "            if len(task_data_clean) > 0:\n",
    "                if task_type == 'regression':\n",
    "                    summary[center]['regression'] = {\n",
    "                        'model_name': task_data_clean.iloc[0]['model_name'],\n",
    "                        'prediction_count': len(task_data_clean),\n",
    "                        'mae': task_data_clean['absolute_error'].mean(),\n",
    "                        'rmse': np.sqrt(task_data_clean['squared_error'].mean()),\n",
    "                        'mape': task_data_clean['percentage_error'].mean(),\n",
    "                        'r2_on_predictions': calculate_r2_on_predictions(\n",
    "                            task_data_clean['actual_value'], \n",
    "                            task_data_clean['predicted_value']\n",
    "                        )\n",
    "                    }\n",
    "                else:\n",
    "                    summary[center]['classification'] = {\n",
    "                        'model_name': task_data_clean.iloc[0]['model_name'],\n",
    "                        'prediction_count': len(task_data_clean),\n",
    "                        'accuracy': task_data_clean['correct_prediction'].mean(),\n",
    "                        'correct_count': int(task_data_clean['correct_prediction'].sum()),\n",
    "                        'total_count': len(task_data_clean)\n",
    "                    }\n",
    "    \n",
    "    return summary\n",
    "\n",
    "def calculate_r2_on_predictions(y_true, y_pred):\n",
    "    \"\"\"예측값에 대한 R² 계산\"\"\"\n",
    "    from sklearn.metrics import r2_score\n",
    "    y_true = pd.Series(y_true).astype(float)\n",
    "    y_pred = pd.Series(y_pred).astype(float)\n",
    "    if len(y_true) < 2:\n",
    "        return None\n",
    "    return r2_score(y_true, y_pred)\n",
    "\n",
    "\n",
    "def print_final_results(results_df, performance_summary):\n",
    "    \"\"\"최종 결과 출력\"\"\"\n",
    "    \n",
    "    print(f\"\\n{'='*60}\")\n",
    "    print(f\"=== 최종 예측 결과 요약 ===\")\n",
    "    print(f\"{'='*60}\")\n",
    "    \n",
    "    # 전체 요약\n",
    "    total_predictions = len(results_df)\n",
    "    date_range = f\"{results_df['date'].min()} ~ {results_df['date'].max()}\"\n",
    "    centers = results_df['center'].unique()\n",
    "    \n",
    "    print(f\"예측 기간: {date_range}\")\n",
    "    print(f\"총 예측 건수: {total_predictions}\")\n",
    "    print(f\"센터 수: {len(centers)} ({', '.join(centers)})\")\n",
    "    \n",
    "    # 센터별 성능 요약\n",
    "    for center, perf in performance_summary.items():\n",
    "        print(f\"\\n--- {center.upper()} 센터 성능 ---\")\n",
    "        \n",
    "        if 'regression' in perf:\n",
    "            reg = perf['regression']\n",
    "            print(f\"  회귀 ({reg['model_name']}):\")\n",
    "            print(f\"    예측 건수: {reg['prediction_count']}\")\n",
    "            print(f\"    MAE: {reg['mae']:.2f}\")\n",
    "            print(f\"    RMSE: {reg['rmse']:.2f}\")\n",
    "            print(f\"    MAPE: {reg['mape']:.1f}%\")\n",
    "            if reg['r2_on_predictions'] is not None:\n",
    "                print(f\"    R²: {reg['r2_on_predictions']:.3f}\")\n",
    "        \n",
    "        if 'classification' in perf:\n",
    "            clf = perf['classification']\n",
    "            print(f\"  분류 ({clf['model_name']}):\")\n",
    "            print(f\"    예측 건수: {clf['prediction_count']}\")\n",
    "            print(f\"    정확도: {clf['accuracy']:.1%}\")\n",
    "            print(f\"    정답 개수: {clf['correct_count']}/{clf['total_count']}\")\n",
    "    \n",
    "    # 결과 테이블 미리보기\n",
    "    print(f\"\\n--- 결과 테이블 미리보기 ---\")\n",
    "    display_columns = ['date', 'center', 'task_type', 'model_name', 'actual_value', 'predicted_value']\n",
    "    if all(col in results_df.columns for col in display_columns):\n",
    "        print(results_df[display_columns].head(10).to_string(index=False))\n",
    "\n",
    "def save_final_results(results_df, performance_summary, training_results_df):\n",
    "    \"\"\"최종 결과 저장\"\"\"\n",
    "    \n",
    "    timestamp = time.strftime(\"%Y%m%d_%H%M%S\")\n",
    "    base_filename = f\"production_simulation_{timestamp}\"\n",
    "    \n",
    "    try:\n",
    "        # 1. 예측 결과 테이블 저장\n",
    "        results_filename = f\"{base_filename}_predictions.csv\"\n",
    "        results_df.to_csv(results_filename, index=False, encoding='utf-8-sig')\n",
    "        print(f\"\\n예측 결과 저장: {results_filename}\")\n",
    "        \n",
    "        # 2. 성능 요약 저장\n",
    "        summary_data = []\n",
    "        for center, perf in performance_summary.items():\n",
    "            for task_type, metrics in perf.items():\n",
    "                summary_row = {'center': center, 'task_type': task_type}\n",
    "                summary_row.update(metrics)\n",
    "                summary_data.append(summary_row)\n",
    "        \n",
    "        if summary_data:\n",
    "            summary_df = pd.DataFrame(summary_data)\n",
    "            summary_filename = f\"{base_filename}_summary.csv\"\n",
    "            summary_df.to_csv(summary_filename, index=False, encoding='utf-8-sig')\n",
    "            print(f\"성능 요약 저장: {summary_filename}\")\n",
    "        \n",
    "        # 3. 학습 결과 저장\n",
    "        if len(training_results_df) > 0:\n",
    "            training_filename = f\"{base_filename}_training.csv\"\n",
    "            training_results_df.to_csv(training_filename, index=False, encoding='utf-8-sig')\n",
    "            print(f\"학습 결과 저장: {training_filename}\")\n",
    "        \n",
    "        print(f\"\\n모든 결과가 저장되었습니다. 파일명 접두사: {base_filename}\")\n",
    "        \n",
    "    except Exception as e:\n",
    "        print(f\"결과 저장 중 오류 발생: {e}\")\n",
    "\n",
    "# --- Part 3: Data Leakage 방지용 피처 엔지니어링 함수 ---\n",
    "def make_features(df, cutoff_date=None):\n",
    "    \"\"\"\n",
    "    파생변수 생성 함수 - Data Leakage 방지 버전\n",
    "    \n",
    "    Parameters:\n",
    "    - df: 원본 데이터\n",
    "    - cutoff_date: 타겟 변수 생성 제한 날짜 (None이면 전체 데이터 사용)\n",
    "    \"\"\"\n",
    "    df = df.copy()\n",
    "    \n",
    "    # 날짜 정리 및 정렬\n",
    "    df['날짜'] = pd.to_datetime(df['날짜'])\n",
    "    df = df.sort_values('날짜').reset_index(drop=True)\n",
    "\n",
    "    # 달/요일 숫자\n",
    "    df['월'] = df['날짜'].dt.month\n",
    "    df['요일'] = df['날짜'].dt.weekday\n",
    "\n",
    "    # 계절/불쾌지수등급 숫자 매핑\n",
    "    season_map = {'봄': 0, '여름': 1, '가을': 2, '겨울': 3}\n",
    "    discomfort_map = {'쾌적': 0, '약간 불쾌': 1, '불쾌': 2, '매우 불쾌': 3, '극심한 불쾌': 4}\n",
    "    df['계절'] = df['계절'].map(season_map).astype('Int64')\n",
    "    df['불쾌지수등급'] = df['불쾌지수등급'].map(discomfort_map).astype('Int64')\n",
    "\n",
    "    # 강수량 시차 피처\n",
    "    df['강수량_1일전'] = df['일_일강수량(mm)'].shift(1)\n",
    "    df['강수량_2일전'] = df['일_일강수량(mm)'].shift(2)\n",
    "    df['강수량_1일_누적'] = df['일_일강수량(mm)'].rolling(1, min_periods=1).sum()\n",
    "    df['강수량_2일_누적'] = df['일_일강수량(mm)'].rolling(2, min_periods=1).sum()\n",
    "    df['강수량_3일_누적'] = df['일_일강수량(mm)'].rolling(3, min_periods=1).sum()\n",
    "    df['강수량_5일_누적'] = df['일_일강수량(mm)'].rolling(5, min_periods=1).sum()\n",
    "    df['강수량_7일_누적'] = df['일_일강수량(mm)'].rolling(7, min_periods=1).sum()\n",
    "\n",
    "    df['일교차'] = df['일_최고기온(°C)'] - df['일_최저기온(°C)']\n",
    "    df['폭우_여부'] = (df['일_일강수량(mm)'] >= 80).astype(int)\n",
    "    \n",
    "    # 체감온도 계산\n",
    "    if '일_평균기온(°C)' in df.columns:\n",
    "        T = pd.to_numeric(df['일_평균기온(°C)'], errors='coerce')\n",
    "    else:\n",
    "        T = pd.Series(np.nan, index=df.index)\n",
    "    if '일_평균풍속(m/s)' in df.columns:\n",
    "        V_ms = pd.to_numeric(df['일_평균풍속(m/s)'], errors='coerce')\n",
    "    else:\n",
    "        V_ms = pd.Series(np.nan, index=df.index)\n",
    "    if '평균습도(%)' in df.columns:\n",
    "        RH = pd.to_numeric(df['평균습도(%)'], errors='coerce')\n",
    "    else:\n",
    "        RH = pd.Series(np.nan, index=df.index)\n",
    "\n",
    "    # 윈드칠\n",
    "    V_kmh = V_ms * 3.6\n",
    "    wct_raw = 13.12 + 0.6215*T - 11.37*np.power(V_kmh, 0.16) + 0.3965*T*np.power(V_kmh, 0.16)\n",
    "    wc_valid = (T <= 10.0) & (V_kmh >= 4.8)\n",
    "    wct = T.copy()\n",
    "    wct[wc_valid] = wct_raw[wc_valid]\n",
    "\n",
    "    # 열지수\n",
    "    T_f = T * 9/5 + 32\n",
    "    HI_f = (-42.379 + 2.04901523*T_f + 10.14333127*RH\n",
    "            - 0.22475541*T_f*RH - 0.00683783*T_f**2 - 0.05481717*RH**2\n",
    "            + 0.00122874*T_f**2*RH + 0.00085282*T_f*RH**2\n",
    "            - 0.00000199*T_f**2*RH**2)\n",
    "    mask_low = (RH < 13) & (T_f >= 80) & (T_f <= 112)\n",
    "    adj_low = ((13 - RH)/4) * np.sqrt((17 - np.abs(T_f - 95))/17)\n",
    "    HI_f = HI_f.where(~mask_low, HI_f - adj_low)\n",
    "    mask_high = (RH > 85) & (T_f >= 80) & (T_f <= 87)\n",
    "    adj_high = ((RH - 85)/10) * ((87 - T_f)/5)\n",
    "    HI_f = HI_f.where(~mask_high, HI_f + adj_high)\n",
    "    hi_valid = (T_f >= 80) & (RH >= 40)\n",
    "    HI_c = (HI_f - 32) * 5/9\n",
    "    hi = T.copy()\n",
    "    hi[hi_valid] = HI_c[hi_valid]\n",
    "\n",
    "    # 스테드먼 체감온도\n",
    "    e = (RH/100.0) * 6.105 * np.exp(17.27*T/(237.7 + T))\n",
    "    at = T + 0.33*e - 0.70*V_ms - 4.00\n",
    "\n",
    "    # 최종 체감온도\n",
    "    apparent = at.copy()\n",
    "    apparent[hi_valid] = hi[hi_valid]\n",
    "    apparent[wc_valid] = wct[wc_valid]\n",
    "    df['체감온도(°C)'] = apparent\n",
    "    \n",
    "    # 분류용 등급 계산\n",
    "    q = df['합계'].dropna().quantile([0.15, 0.70, 0.90])\n",
    "    q15, q70, q90 = float(q.loc[0.15]), float(q.loc[0.70]), float(q.loc[0.90])\n",
    "\n",
    "    def categorize(x):\n",
    "        if pd.isna(x):\n",
    "            return np.nan\n",
    "        if x < q15:\n",
    "            return 0\n",
    "        elif x < q70:\n",
    "            return 1\n",
    "        elif x < q90:\n",
    "            return 2\n",
    "        else:\n",
    "            return 3\n",
    "\n",
    "    df['등급'] = df['합계'].apply(categorize)\n",
    "    \n",
    "    # 타겟 변수 생성 (핵심 수정 부분)\n",
    "    if cutoff_date is not None:\n",
    "        cutoff = pd.to_datetime(cutoff_date)\n",
    "        \n",
    "        # 타겟 변수 초기화\n",
    "        df['합계_1일후'] = np.nan\n",
    "        df['합계_2일후'] = np.nan\n",
    "        df['등급_1일후'] = np.nan\n",
    "        df['등급_2일후'] = np.nan\n",
    "        \n",
    "        # cutoff_date 내에서만 타겟 변수 생성\n",
    "        for i in range(len(df)):\n",
    "            current_date = df.loc[i, '날짜']\n",
    "            \n",
    "            if i + 1 < len(df) and current_date <= cutoff:\n",
    "                next_date = df.loc[i+1, '날짜']\n",
    "                if next_date <= cutoff:\n",
    "                    df.loc[i, '합계_1일후'] = df.loc[i+1, '합계']\n",
    "                    df.loc[i, '등급_1일후'] = df.loc[i+1, '등급']\n",
    "            \n",
    "            if i + 2 < len(df) and current_date <= cutoff:\n",
    "                next2_date = df.loc[i+2, '날짜']\n",
    "                if next2_date <= cutoff:\n",
    "                    df.loc[i, '합계_2일후'] = df.loc[i+2, '합계']\n",
    "                    df.loc[i, '등급_2일후'] = df.loc[i+2, '등급']\n",
    "    else:\n",
    "        # 기존 방식\n",
    "        df['합계_1일후'] = df['합계'].shift(-1)\n",
    "        df['합계_2일후'] = df['합계'].shift(-2)\n",
    "        df['등급_1일후'] = df['등급'].shift(-1).astype('Int64')\n",
    "        df['등급_2일후'] = df['등급'].shift(-2).astype('Int64')\n",
    "\n",
    "    # 컷 기준 저장\n",
    "    df.attrs['cutoffs'] = {\"q15\": q15, \"q70\": q70, \"q90\": q90}\n",
    "\n",
    "    # 결측 제거 및 리셋\n",
    "    df = df.dropna().reset_index(drop=True)\n",
    "    \n",
    "    # 6월 데이터 제거\n",
    "    df = df[df[\"날짜\"] < \"2025-06-01\"]\n",
    "    \n",
    "    return df\n",
    "\n",
    "def make_features_for_prediction(historical_df, future_df):\n",
    "    \"\"\"새로운 데이터에 대한 파생변수 생성 (과거 데이터 활용)\"\"\"\n",
    "    # 전체 데이터 결합\n",
    "    combined_df = pd.concat([historical_df, future_df], ignore_index=True)\n",
    "    combined_df['날짜'] = pd.to_datetime(combined_df['날짜'])\n",
    "    combined_df = combined_df.sort_values('날짜').reset_index(drop=True)\n",
    "    \n",
    "    # 기본 파생변수들만 생성 (lag 변수 중심)\n",
    "    combined_df['월'] = combined_df['날짜'].dt.month\n",
    "    combined_df['요일'] = combined_df['날짜'].dt.weekday\n",
    "    \n",
    "    # 계절/불쾌지수 매핑\n",
    "    season_map = {'봄': 0, '여름': 1, '가을': 2, '겨울': 3}\n",
    "    discomfort_map = {'쾌적': 0, '약간 불쾌': 1, '불쾌': 2, '매우 불쾌': 3, '극심한 불쾌': 4}\n",
    "    combined_df['계절'] = combined_df['계절'].map(season_map).astype('Int64')\n",
    "    combined_df['불쾌지수등급'] = combined_df['불쾌지수등급'].map(discomfort_map).astype('Int64')\n",
    "    \n",
    "    # 시차 변수들\n",
    "    combined_df['강수량_1일전'] = combined_df['일_일강수량(mm)'].shift(1)\n",
    "    combined_df['강수량_2일전'] = combined_df['일_일강수량(mm)'].shift(2)\n",
    "    combined_df['강수량_1일_누적'] = combined_df['일_일강수량(mm)'].rolling(1, min_periods=1).sum()\n",
    "    combined_df['강수량_2일_누적'] = combined_df['일_일강수량(mm)'].rolling(2, min_periods=1).sum()\n",
    "    combined_df['강수량_3일_누적'] = combined_df['일_일강수량(mm)'].rolling(3, min_periods=1).sum()\n",
    "    combined_df['강수량_5일_누적'] = combined_df['일_일강수량(mm)'].rolling(5, min_periods=1).sum()\n",
    "    combined_df['강수량_7일_누적'] = combined_df['일_일강수량(mm)'].rolling(7, min_periods=1).sum()\n",
    "    \n",
    "    combined_df['일교차'] = combined_df['일_최고기온(°C)'] - combined_df['일_최저기온(°C)']\n",
    "    combined_df['폭우_여부'] = (combined_df['일_일강수량(mm)'] >= 80).astype(int)\n",
    "    \n",
    "    # 체감온도 계산 (동일한 로직)\n",
    "    T = pd.to_numeric(combined_df.get('일_평균기온(°C)', np.nan), errors='coerce')\n",
    "    V_ms = pd.to_numeric(combined_df.get('일_평균풍속(m/s)', np.nan), errors='coerce')\n",
    "    RH = pd.to_numeric(combined_df.get('평균습도(%)', np.nan), errors='coerce')\n",
    "    \n",
    "    # 체감온도 계산 (간단 버전)\n",
    "    e = (RH/100.0) * 6.105 * np.exp(17.27*T/(237.7 + T))\n",
    "    combined_df['체감온도(°C)'] = T + 0.33*e - 0.70*V_ms - 4.00\n",
    "    \n",
    "    # 새 데이터 부분만 반환\n",
    "    historical_len = len(historical_df)\n",
    "    return combined_df.iloc[historical_len:].reset_index(drop=True)\n",
    "\n",
    "\n",
    "# --- Part 4: 메인 파이프라인 및 실행기 함수 ---\n",
    "def select_and_train_best_models_safe(center_name, train_data, evaluation_results):\n",
    "    \"\"\"안전한 모델 선택 및 학습\"\"\"\n",
    "    \n",
    "    results_df = pd.DataFrame(evaluation_results)\n",
    "    successful_results = results_df[results_df['success'] == True]\n",
    "    \n",
    "    if len(successful_results) == 0:\n",
    "        print(f\"    성공한 모델이 없습니다.\")\n",
    "        return None\n",
    "    \n",
    "    best_models = {}\n",
    "    \n",
    "    # 회귀 최고 성능 모델\n",
    "    reg_results = successful_results[successful_results['type'] == 'regression']\n",
    "    if len(reg_results) > 0:\n",
    "        best_reg = reg_results.loc[reg_results['r2'].idxmax()]\n",
    "        print(f\"    최고 회귀 모델: {best_reg['model']} (R²={best_reg['r2']:.3f})\")\n",
    "        \n",
    "        reg_pipeline = retrain_on_full_safe_data(train_data, best_reg['model'], 'regression', best_reg['split_method'])\n",
    "        \n",
    "        if reg_pipeline:\n",
    "            best_models['regression'] = {\n",
    "                'model_name': best_reg['model'],\n",
    "                'pipeline': reg_pipeline['pipeline'],\n",
    "                'feature_names': reg_pipeline['feature_names'],\n",
    "                'performance': dict(best_reg),\n",
    "                'split_method': best_reg['split_method']\n",
    "            }\n",
    "    \n",
    "    # 분류 최고 성능 모델\n",
    "    clf_results = successful_results[successful_results['type'] == 'classification']\n",
    "    if len(clf_results) > 0:\n",
    "        best_clf = clf_results.loc[clf_results['macro_f1'].idxmax()]\n",
    "        print(f\"    최고 분류 모델: {best_clf['model']} (F1={best_clf['macro_f1']:.3f})\")\n",
    "        \n",
    "        clf_pipeline = retrain_on_full_safe_data(train_data, best_clf['model'], 'classification', best_clf['split_method'])\n",
    "        \n",
    "        if clf_pipeline:\n",
    "            best_models['classification'] = {\n",
    "                'model_name': best_clf['model'],\n",
    "                'pipeline': clf_pipeline['pipeline'],\n",
    "                'feature_names': clf_pipeline['feature_names'],\n",
    "                'performance': dict(best_clf),\n",
    "                'split_method': best_clf['split_method']\n",
    "            }\n",
    "    \n",
    "    return best_models if best_models else None\n",
    "\n",
    "def retrain_on_full_safe_data(train_data, model_name, model_type, split_method):\n",
    "    \"\"\"안전한 전체 데이터 재학습\"\"\"\n",
    "    \n",
    "    try:\n",
    "        target_col = \"합계_1일후\" if model_type == \"regression\" else \"등급_1일후\"\n",
    "        \n",
    "        # 전체 데이터를 train으로 사용 (test_size를 아주 작게)\n",
    "        X_train, X_test, y_train, y_test, feature_names, _, _ = prepare_data_stratified(\n",
    "            train_data, target_col=target_col, model_type=model_type, \n",
    "            test_size=0.01, split_method=split_method\n",
    "        )\n",
    "        \n",
    "        # 전체 결합\n",
    "        X_all = pd.concat([X_train, X_test], ignore_index=True)\n",
    "        y_all = pd.concat([y_train, y_test], ignore_index=True)\n",
    "        \n",
    "        # 모델 학습\n",
    "        if model_type == \"regression\":\n",
    "            models = build_regression_models()\n",
    "        else:\n",
    "            models = build_classification_models()\n",
    "        \n",
    "        model = models[model_name]\n",
    "        pipeline = make_pipeline_unified(model, model_name, model_type)\n",
    "        pipeline.fit(X_all, y_all)\n",
    "        \n",
    "        return {'pipeline': pipeline, 'feature_names': feature_names}\n",
    "        \n",
    "    except Exception as e:\n",
    "        print(f\"    모델 재학습 실패 ({model_name}): {e}\")\n",
    "        return None\n",
    "\n",
    "def make_predictions_safe(center_name, future_data, trained_models):\n",
    "    \"\"\"안전한 예측 수행\"\"\"\n",
    "    \n",
    "    predictions = []\n",
    "    \n",
    "    for task_type, model_info in trained_models.items():\n",
    "        try:\n",
    "            pipeline = model_info['pipeline']\n",
    "            feature_names = model_info['feature_names']\n",
    "            model_name = model_info['model_name']\n",
    "            \n",
    "            # 예측 데이터 준비\n",
    "            X_future = prepare_prediction_features(future_data, feature_names)\n",
    "            \n",
    "            if X_future is None or len(X_future) == 0:\n",
    "                continue\n",
    "            \n",
    "            # 예측 수행\n",
    "            y_pred = pipeline.predict(X_future)\n",
    "            print(f\"    {task_type} 예측 완료: {len(y_pred)}개\")\n",
    "            \n",
    "            # 결과 저장\n",
    "            for i in range(len(X_future)):\n",
    "                pred_result = {\n",
    "                    'date': future_data.iloc[i]['날짜'],\n",
    "                    'center': center_name,\n",
    "                    'task_type': task_type,\n",
    "                    'model_name': model_name,\n",
    "                    'target_column': \"합계_1일후\" if task_type == \"regression\" else \"등급_1일후\",\n",
    "                    'actual_value': None,  # 운영 환경에서는 모름\n",
    "                    'predicted_value': float(y_pred[i])\n",
    "                }\n",
    "                predictions.append(pred_result)\n",
    "                \n",
    "        except Exception as e:\n",
    "            print(f\"    {task_type} 예측 실패: {e}\")\n",
    "    \n",
    "    return predictions\n",
    "\n",
    "def prepare_prediction_features(future_data, expected_features):\n",
    "    \"\"\"예측용 피처 준비\"\"\"\n",
    "    \n",
    "    not_use_col = [\n",
    "        '날짜', '1처리장','2처리장','정화조','중계펌프장','합계','시설현대화',\n",
    "        '3처리장','4처리장','합계', '합계_1일후','합계_2일후',\n",
    "        '등급','등급_1일후','등급_2일후'\n",
    "    ]\n",
    "    \n",
    "    # 피처 선택\n",
    "    available_cols = [col for col in future_data.columns if col not in not_use_col]\n",
    "    X_future = future_data[available_cols].copy()\n",
    "    \n",
    "    # 수치형 변환\n",
    "    for c in X_future.columns:\n",
    "        X_future[c] = pd.to_numeric(X_future[c], errors=\"coerce\")\n",
    "    \n",
    "    # 누락된 피처 처리\n",
    "    missing_features = set(expected_features) - set(X_future.columns)\n",
    "    if missing_features:\n",
    "        for feature in missing_features:\n",
    "            X_future[feature] = 0\n",
    "    \n",
    "    # 피처 순서 맞춤\n",
    "    X_future = X_future[expected_features].copy()\n",
    "    \n",
    "    return X_future\n",
    "\n",
    "def load_original_data():\n",
    "    \"\"\"원본 데이터 로드\"\"\"\n",
    "    nanji_raw = pd.read_csv('../data/processed/center_season/nanji/난지_merged.csv', encoding='utf-8-sig')\n",
    "    jungnang_raw = pd.read_csv('../data/processed/center_season/jungnang/중랑_merged.csv', encoding='utf-8-sig')\n",
    "    seonam_raw = pd.read_csv('../data/processed/center_season/seonam/서남_merged.csv', encoding='utf-8-sig')\n",
    "    tancheon_raw = pd.read_csv('../data/processed/center_season/tancheon/탄천_merged.csv', encoding='utf-8-sig')\n",
    "    \n",
    "    return {\n",
    "        \"nanji\": nanji_raw,\n",
    "        \"jungnang\": jungnang_raw,\n",
    "        \"seonam\": seonam_raw,\n",
    "        \"tancheon\": tancheon_raw\n",
    "    }\n",
    "\n",
    "def complete_production_simulation_safe(centers, cutoff_date='2025-05-20'):\n",
    "    \"\"\"Data Leakage 방지 완전 파이프라인\"\"\"\n",
    "    print(f\"{'='*80}\")\n",
    "    print(f\"Data Leakage 방지 운영 환경 시뮬레이션\")\n",
    "    print(f\"학습 기간: ~ {cutoff_date}\")\n",
    "    print(f\"예측 기간: {cutoff_date} 이후\")\n",
    "    print(f\"{'='*80}\")\n",
    "    \n",
    "    if centers is None:\n",
    "        try:\n",
    "            centers = load_original_data()\n",
    "        except:\n",
    "            print(\"데이터를 로드할 수 없습니다.\")\n",
    "            return None\n",
    "    \n",
    "    cutoff = pd.to_datetime(cutoff_date)\n",
    "    all_training_results = []\n",
    "    best_models_by_center = {}\n",
    "    all_predictions = []\n",
    "    \n",
    "    # 각 센터별 처리\n",
    "    for center_name, df_raw in centers.items():\n",
    "        print(f\"\\n[{center_name.upper()} 센터 처리]\")\n",
    "        \n",
    "        # 원본 데이터 날짜 기준 분할\n",
    "        df_raw['날짜'] = pd.to_datetime(df_raw['날짜'])\n",
    "        df_raw = df_raw.sort_values('날짜').reset_index(drop=True)\n",
    "        \n",
    "        raw_train_data = df_raw[df_raw['날짜'] <= cutoff].copy()\n",
    "        raw_future_data = df_raw[df_raw['날짜'] > cutoff].copy()\n",
    "        \n",
    "        print(f\"  원본 학습 데이터: {len(raw_train_data)}행\")\n",
    "        print(f\"  원본 예측 데이터: {len(raw_future_data)}행\")\n",
    "        \n",
    "        if len(raw_train_data) < 50 or len(raw_future_data) == 0:\n",
    "            print(f\"  데이터 부족으로 건너뜀\")\n",
    "            continue\n",
    "        \n",
    "        # 1단계: 학습용 데이터 안전하게 준비\n",
    "        train_data_safe = make_features(raw_train_data, cutoff_date=cutoff_date)\n",
    "        print(f\"  처리된 학습 데이터: {len(train_data_safe)}행\")\n",
    "        \n",
    "        # 2단계: 모델 평가 및 선택\n",
    "        center_results = comprehensive_evaluation_comparison(center_name, train_data_safe)\n",
    "        all_training_results.extend(center_results)\n",
    "        \n",
    "        center_best_models = select_and_train_best_models_safe(center_name, train_data_safe, center_results)\n",
    "        if center_best_models:\n",
    "            best_models_by_center[center_name] = center_best_models\n",
    "        \n",
    "        # 3단계: 예측용 데이터 준비 (과거 정보만 활용)\n",
    "        if len(raw_future_data) > 0 and center_name in best_models_by_center:\n",
    "            future_data_with_features = make_features_for_prediction(raw_train_data, raw_future_data)\n",
    "            \n",
    "            # 4단계: 예측 수행\n",
    "            center_predictions = make_predictions_safe(\n",
    "                center_name, future_data_with_features, best_models_by_center[center_name]\n",
    "            )\n",
    "            all_predictions.extend(center_predictions)\n",
    "    \n",
    "    # 5단계: 결과 정리\n",
    "    if not all_predictions:\n",
    "        print(\"예측 결과가 없습니다.\")\n",
    "        return None\n",
    "    \n",
    "    final_results_table = create_final_results_table(all_predictions)\n",
    "    performance_summary = create_performance_summary(final_results_table)\n",
    "    \n",
    "    print_final_results(final_results_table, performance_summary)\n",
    "    save_final_results(final_results_table, performance_summary, pd.DataFrame(all_training_results))\n",
    "    \n",
    "    return final_results_table, best_models_by_center, performance_summary\n",
    "\n",
    "\n",
    "def run_safe_production_pipeline(cutoff_date='2025-05-20'):\n",
    "    \"\"\"안전한 파이프라인 실행\"\"\"\n",
    "    print(\"Data Leakage 방지 파이프라인을 시작합니다...\")\n",
    "    start_time = time.time()\n",
    "    \n",
    "    # 데이터 로드\n",
    "    centers = load_original_data()\n",
    "    if centers is None:\n",
    "        return None\n",
    "\n",
    "    # ✅ 수정된 코드: centers를 명시적으로 전달\n",
    "    results = complete_production_simulation_safe(centers=centers, cutoff_date=cutoff_date)\n",
    "    \n",
    "    end_time = time.time()\n",
    "    elapsed_time = end_time - start_time\n",
    "    \n",
    "    print(f\"\\n파이프라인 실행 완료! 소요시간: {elapsed_time:.1f}초\")\n",
    "    \n",
    "    return results\n",
    "\n",
    "\n",
    "# ================================================================================================\n",
    "# 3번 구현: 실제 정답과 예측값 비교\n",
    "# ================================================================================================\n",
    "\n",
    "def add_actual_values_to_predictions(all_predictions, original_centers_data, cutoff_date='2025-05-20'):\n",
    "    \"\"\"\n",
    "    예측 결과에 실제 정답값 추가\n",
    "    \n",
    "    Parameters:\n",
    "    - all_predictions: 예측 결과 리스트\n",
    "    - original_centers_data: 원본 센터 데이터 딕셔너리\n",
    "    - cutoff_date: 학습/예측 분할 기준일\n",
    "    \"\"\"\n",
    "    cutoff = pd.to_datetime(cutoff_date)\n",
    "    \n",
    "    print(f\"\\n실제 정답값 매칭 중...\")\n",
    "    \n",
    "    for pred in tqdm(all_predictions, desc=\"정답 매칭\"):\n",
    "        center_name = pred['center']\n",
    "        pred_date = pd.to_datetime(pred['date'])\n",
    "        task_type = pred['task_type']\n",
    "        \n",
    "        if center_name not in original_centers_data:\n",
    "            continue\n",
    "            \n",
    "        # 해당 센터의 예측 날짜 이후 데이터 가져오기\n",
    "        center_data = original_centers_data[center_name].copy()\n",
    "        center_data['날짜'] = pd.to_datetime(center_data['날짜'])\n",
    "        \n",
    "        # 예측 날짜 다음날 데이터 찾기 (1일후 예측이므로)\n",
    "        target_date = pred_date + pd.Timedelta(days=1)\n",
    "        \n",
    "        # 해당 날짜 데이터 찾기\n",
    "        matching_rows = center_data[center_data['날짜'] == target_date]\n",
    "        \n",
    "        if len(matching_rows) > 0:\n",
    "            actual_row = matching_rows.iloc[0]\n",
    "            \n",
    "            if task_type == 'regression':\n",
    "                # 회귀: 합계 값\n",
    "                actual_value = actual_row.get('합계', None)\n",
    "            else:\n",
    "                # 분류: 등급 계산 (동일한 quantile 기준 사용)\n",
    "                center_historical = center_data[center_data['날짜'] <= cutoff]\n",
    "                if '합계' in center_historical.columns and len(center_historical) > 0:\n",
    "                    q = center_historical['합계'].dropna().quantile([0.15, 0.70, 0.90])\n",
    "                    q15, q70, q90 = float(q.loc[0.15]), float(q.loc[0.70]), float(q.loc[0.90])\n",
    "                    \n",
    "                    actual_total = actual_row.get('합계', None)\n",
    "                    if pd.notna(actual_total):\n",
    "                        if actual_total < q15:\n",
    "                            actual_value = 0\n",
    "                        elif actual_total < q70:\n",
    "                            actual_value = 1\n",
    "                        elif actual_total < q90:\n",
    "                            actual_value = 2\n",
    "                        else:\n",
    "                            actual_value = 3\n",
    "                    else:\n",
    "                        actual_value = None\n",
    "                else:\n",
    "                    actual_value = None\n",
    "            \n",
    "            pred['actual_value'] = actual_value\n",
    "        else:\n",
    "            pred['actual_value'] = None\n",
    "    \n",
    "    # 매칭 결과 요약\n",
    "    total_predictions = len(all_predictions)\n",
    "    matched_predictions = sum(1 for p in all_predictions if p['actual_value'] is not None)\n",
    "    match_rate = matched_predictions / total_predictions * 100\n",
    "    \n",
    "    print(f\"정답 매칭 완료: {matched_predictions}/{total_predictions} ({match_rate:.1f}%)\")\n",
    "    \n",
    "    return all_predictions\n",
    "\n",
    "def calculate_production_performance(predictions_with_actuals):\n",
    "    \"\"\"\n",
    "    실제 운영 성능 계산\n",
    "    \"\"\"\n",
    "    results_df = pd.DataFrame(predictions_with_actuals)\n",
    "    \n",
    "    # 정답이 있는 예측만 필터링\n",
    "    valid_predictions = results_df.dropna(subset=['actual_value', 'predicted_value'])\n",
    "    \n",
    "    if len(valid_predictions) == 0:\n",
    "        print(\"평가 가능한 예측이 없습니다.\")\n",
    "        return None\n",
    "    \n",
    "    performance_summary = {}\n",
    "    \n",
    "    for center in valid_predictions['center'].unique():\n",
    "        center_data = valid_predictions[valid_predictions['center'] == center]\n",
    "        performance_summary[center] = {}\n",
    "        \n",
    "        for task_type in ['regression', 'classification']:\n",
    "            task_data = center_data[center_data['task_type'] == task_type]\n",
    "            \n",
    "            if len(task_data) == 0:\n",
    "                continue\n",
    "                \n",
    "            y_true = task_data['actual_value'].values\n",
    "            y_pred = task_data['predicted_value'].values\n",
    "            \n",
    "            if task_type == 'regression':\n",
    "                # 회귀 평가 지표\n",
    "                mae = mean_absolute_error(y_true, y_pred)\n",
    "                rmse = np.sqrt(mean_squared_error(y_true, y_pred))\n",
    "                r2 = r2_score(y_true, y_pred)\n",
    "                mape = np.mean(np.abs((y_true - y_pred) / (y_true + 1e-8))) * 100\n",
    "                \n",
    "                performance_summary[center]['regression'] = {\n",
    "                    'model_name': task_data.iloc[0]['model_name'],\n",
    "                    'prediction_count': len(task_data),\n",
    "                    'mae': mae,\n",
    "                    'rmse': rmse,\n",
    "                    'r2': r2,\n",
    "                    'mape': mape,\n",
    "                    'mean_actual': np.mean(y_true),\n",
    "                    'mean_predicted': np.mean(y_pred)\n",
    "                }\n",
    "                \n",
    "            else:\n",
    "                # 분류 평가 지표\n",
    "                accuracy = accuracy_score(y_true, y_pred)\n",
    "                f1_macro = f1_score(y_true, y_pred, average='macro', zero_division=0)\n",
    "                f1_weighted = f1_score(y_true, y_pred, average='weighted', zero_division=0)\n",
    "                \n",
    "                # 극값 분류 성능 (등급 0, 3)\n",
    "                extreme_classes = [0, 3]\n",
    "                y_true_extreme = pd.Series(y_true).isin(extreme_classes).astype(int)\n",
    "                y_pred_extreme = pd.Series(y_pred).isin(extreme_classes).astype(int)\n",
    "                extreme_f1 = f1_score(y_true_extreme, y_pred_extreme, zero_division=0)\n",
    "                \n",
    "                performance_summary[center]['classification'] = {\n",
    "                    'model_name': task_data.iloc[0]['model_name'],\n",
    "                    'prediction_count': len(task_data),\n",
    "                    'accuracy': accuracy,\n",
    "                    'macro_f1': f1_macro,\n",
    "                    'weighted_f1': f1_weighted,\n",
    "                    'extreme_f1': extreme_f1,\n",
    "                    'correct_count': int(np.sum(y_true == y_pred)),\n",
    "                    'total_count': len(y_true)\n",
    "                }\n",
    "    \n",
    "    return performance_summary\n",
    "\n",
    "def print_production_performance(performance_summary, training_performance=None):\n",
    "    \"\"\"\n",
    "    실제 운영 성능 출력 (학습 성능과 비교)\n",
    "    \"\"\"\n",
    "    print(f\"\\n{'='*70}\")\n",
    "    print(f\"실제 운영 환경 성능 평가\")\n",
    "    print(f\"{'='*70}\")\n",
    "    \n",
    "    for center, perf in performance_summary.items():\n",
    "        print(f\"\\n--- {center.upper()} 센터 ---\")\n",
    "        \n",
    "        if 'regression' in perf:\n",
    "            reg = perf['regression']\n",
    "            print(f\"  회귀 모델 ({reg['model_name']}):\")\n",
    "            print(f\"    예측 건수: {reg['prediction_count']}\")\n",
    "            print(f\"    실제 운영 성능:\")\n",
    "            print(f\"      MAE: {reg['mae']:.2f}\")\n",
    "            print(f\"      RMSE: {reg['rmse']:.2f}\")\n",
    "            print(f\"      R²: {reg['r2']:.3f}\")\n",
    "            print(f\"      MAPE: {reg['mape']:.1f}%\")\n",
    "            print(f\"    평균값 비교:\")\n",
    "            print(f\"      실제: {reg['mean_actual']:.1f}\")\n",
    "            print(f\"      예측: {reg['mean_predicted']:.1f}\")\n",
    "            \n",
    "        if 'classification' in perf:\n",
    "            clf = perf['classification']\n",
    "            print(f\"  분류 모델 ({clf['model_name']}):\")\n",
    "            print(f\"    예측 건수: {clf['prediction_count']}\")\n",
    "            print(f\"    실제 운영 성능:\")\n",
    "            print(f\"      정확도: {clf['accuracy']:.1%}\")\n",
    "            print(f\"      Macro F1: {clf['macro_f1']:.3f}\")\n",
    "            print(f\"      Weighted F1: {clf['weighted_f1']:.3f}\")\n",
    "            print(f\"      극값 F1: {clf['extreme_f1']:.3f}\")\n",
    "            print(f\"    정답 개수: {clf['correct_count']}/{clf['total_count']}\")\n",
    "\n",
    "def create_performance_comparison_plot(performance_summary):\n",
    "    \"\"\"\n",
    "    성능 비교 시각화\n",
    "    \"\"\"\n",
    "    centers = list(performance_summary.keys())\n",
    "    n_centers = len(centers)\n",
    "    \n",
    "    if n_centers == 0:\n",
    "        return\n",
    "    \n",
    "    fig, axes = plt.subplots(2, 2, figsize=(15, 10))\n",
    "    fig.suptitle('실제 운영 환경 성능 비교', fontsize=16)\n",
    "    \n",
    "    # 회귀 성능 비교\n",
    "    reg_centers = [c for c in centers if 'regression' in performance_summary[c]]\n",
    "    if reg_centers:\n",
    "        ax1 = axes[0, 0]\n",
    "        r2_scores = [performance_summary[c]['regression']['r2'] for c in reg_centers]\n",
    "        ax1.bar(reg_centers, r2_scores, color='skyblue', alpha=0.7)\n",
    "        ax1.set_title('회귀 모델 R² 점수')\n",
    "        ax1.set_ylabel('R² Score')\n",
    "        ax1.tick_params(axis='x', rotation=45)\n",
    "        \n",
    "        ax2 = axes[0, 1]\n",
    "        mape_scores = [performance_summary[c]['regression']['mape'] for c in reg_centers]\n",
    "        ax2.bar(reg_centers, mape_scores, color='lightcoral', alpha=0.7)\n",
    "        ax2.set_title('회귀 모델 MAPE (%)')\n",
    "        ax2.set_ylabel('MAPE (%)')\n",
    "        ax2.tick_params(axis='x', rotation=45)\n",
    "    \n",
    "    # 분류 성능 비교\n",
    "    clf_centers = [c for c in centers if 'classification' in performance_summary[c]]\n",
    "    if clf_centers:\n",
    "        ax3 = axes[1, 0]\n",
    "        accuracy_scores = [performance_summary[c]['classification']['accuracy'] for c in clf_centers]\n",
    "        ax3.bar(clf_centers, accuracy_scores, color='lightgreen', alpha=0.7)\n",
    "        ax3.set_title('분류 모델 정확도')\n",
    "        ax3.set_ylabel('Accuracy')\n",
    "        ax3.tick_params(axis='x', rotation=45)\n",
    "        \n",
    "        ax4 = axes[1, 1]\n",
    "        f1_scores = [performance_summary[c]['classification']['macro_f1'] for c in clf_centers]\n",
    "        ax4.bar(clf_centers, f1_scores, color='gold', alpha=0.7)\n",
    "        ax4.set_title('분류 모델 Macro F1')\n",
    "        ax4.set_ylabel('Macro F1 Score')\n",
    "        ax4.tick_params(axis='x', rotation=45)\n",
    "    \n",
    "    plt.tight_layout()\n",
    "    plt.show()\n",
    "\n",
    "# ================================================================================================\n",
    "# 기존 complete_production_simulation_safe 함수 수정\n",
    "# ================================================================================================\n",
    "\n",
    "def complete_production_simulation_with_evaluation(centers, cutoff_date='2025-05-20'):\n",
    "    \"\"\"\n",
    "    실제 정답 평가가 포함된 완전한 파이프라인\n",
    "    \"\"\"\n",
    "    print(f\"{'='*80}\")\n",
    "    print(f\"Data Leakage 방지 운영 환경 시뮬레이션 (실제 정답 평가 포함)\")\n",
    "    print(f\"학습 기간: ~ {cutoff_date}\")\n",
    "    print(f\"예측 기간: {cutoff_date} 이후\")\n",
    "    print(f\"{'='*80}\")\n",
    "    \n",
    "    if centers is None:\n",
    "        try:\n",
    "            centers = load_original_data()\n",
    "        except:\n",
    "            print(\"데이터를 로드할 수 없습니다.\")\n",
    "            return None\n",
    "    \n",
    "    cutoff = pd.to_datetime(cutoff_date)\n",
    "    all_training_results = []\n",
    "    best_models_by_center = {}\n",
    "    all_predictions = []\n",
    "    \n",
    "    # 각 센터별 처리 (기존과 동일)\n",
    "    for center_name, df_raw in centers.items():\n",
    "        print(f\"\\n[{center_name.upper()} 센터 처리]\")\n",
    "        \n",
    "        df_raw['날짜'] = pd.to_datetime(df_raw['날짜'])\n",
    "        df_raw = df_raw.sort_values('날짜').reset_index(drop=True)\n",
    "        \n",
    "        raw_train_data = df_raw[df_raw['날짜'] <= cutoff].copy()\n",
    "        raw_future_data = df_raw[df_raw['날짜'] > cutoff].copy()\n",
    "        \n",
    "        print(f\"  원본 학습 데이터: {len(raw_train_data)}행\")\n",
    "        print(f\"  원본 예측 데이터: {len(raw_future_data)}행\")\n",
    "        \n",
    "        if len(raw_train_data) < 50 or len(raw_future_data) == 0:\n",
    "            print(f\"  데이터 부족으로 건너뜀\")\n",
    "            continue\n",
    "        \n",
    "        train_data_safe = make_features(raw_train_data, cutoff_date=cutoff_date)\n",
    "        print(f\"  처리된 학습 데이터: {len(train_data_safe)}행\")\n",
    "        \n",
    "        center_results = comprehensive_evaluation_comparison(center_name, train_data_safe)\n",
    "        all_training_results.extend(center_results)\n",
    "        \n",
    "        center_best_models = select_and_train_best_models_safe(center_name, train_data_safe, center_results)\n",
    "        if center_best_models:\n",
    "            best_models_by_center[center_name] = center_best_models\n",
    "        \n",
    "        if len(raw_future_data) > 0 and center_name in best_models_by_center:\n",
    "            future_data_with_features = make_features_for_prediction(raw_train_data, raw_future_data)\n",
    "            center_predictions = make_predictions_safe(\n",
    "                center_name, future_data_with_features, best_models_by_center[center_name]\n",
    "            )\n",
    "            all_predictions.extend(center_predictions)\n",
    "    \n",
    "    if not all_predictions:\n",
    "        print(\"예측 결과가 없습니다.\")\n",
    "        return None\n",
    "    \n",
    "    # ★ 새로 추가: 실제 정답값 매칭\n",
    "    predictions_with_actuals = add_actual_values_to_predictions(\n",
    "        all_predictions, centers, cutoff_date\n",
    "    )\n",
    "    \n",
    "    # ★ 새로 추가: 실제 운영 성능 계산\n",
    "    production_performance = calculate_production_performance(predictions_with_actuals)\n",
    "    \n",
    "    if production_performance:\n",
    "        print_production_performance(production_performance)\n",
    "        create_performance_comparison_plot(production_performance)\n",
    "    \n",
    "    # 기존 결과 정리\n",
    "    final_results_table = create_final_results_table(predictions_with_actuals)\n",
    "    performance_summary = create_performance_summary(final_results_table)\n",
    "    \n",
    "    save_final_results(final_results_table, performance_summary, pd.DataFrame(all_training_results))\n",
    "    \n",
    "    return final_results_table, best_models_by_center, production_performance\n",
    "\n",
    "# ================================================================================================\n",
    "# 업데이트된 실행 함수\n",
    "# ================================================================================================\n",
    "\n",
    "def run_complete_production_pipeline(cutoff_date='2025-05-20'):\n",
    "    \"\"\"실제 정답 평가가 포함된 파이프라인 실행\"\"\"\n",
    "    print(\"실제 정답 평가가 포함된 파이프라인을 시작합니다...\")\n",
    "    start_time = time.time()\n",
    "    \n",
    "    centers = load_original_data()\n",
    "    if centers is None:\n",
    "        return None\n",
    "\n",
    "    results = complete_production_simulation_with_evaluation(centers=centers, cutoff_date=cutoff_date)\n",
    "    \n",
    "    end_time = time.time()\n",
    "    elapsed_time = end_time - start_time\n",
    "    \n",
    "    print(f\"\\n파이프라인 실행 완료! 소요시간: {elapsed_time:.1f}초\")\n",
    "    \n",
    "    return results"
   ]
  },
  {
   "cell_type": "markdown",
   "id": "f3a6d3aa",
   "metadata": {},
   "source": []
  },
  {
   "cell_type": "code",
   "execution_count": 6,
   "id": "dfa7a683",
   "metadata": {},
   "outputs": [
    {
     "name": "stdout",
     "output_type": "stream",
     "text": [
      "실제 정답 평가가 포함된 파이프라인을 시작합니다...\n",
      "================================================================================\n",
      "Data Leakage 방지 운영 환경 시뮬레이션 (실제 정답 평가 포함)\n",
      "학습 기간: ~ 2025-05-20\n",
      "예측 기간: 2025-05-20 이후\n",
      "================================================================================\n",
      "\n",
      "[NANJI 센터 처리]\n",
      "  원본 학습 데이터: 3062행\n",
      "  원본 예측 데이터: 41행\n",
      "  처리된 학습 데이터: 3058행\n",
      "\n",
      "======================================================================\n",
      "센터: nanji - Stratified vs 시계열 분할 비교\n",
      "======================================================================\n",
      "데이터 크기: 3058행, 44컬럼\n",
      "등급 분포: {0.0: 458, 1.0: 1682, 2.0: 611, 3.0: 307}\n",
      "클래스 불균형 비율: 5.5:1 (최대:1682, 최소:307)\n",
      "\n",
      "==================================================\n",
      "분할 방법: TEMPORAL\n",
      "==================================================\n",
      "\n",
      "--- 회귀 모델 평가 (temporal) ---\n",
      "회귀용 데이터: 학습 2446행, 테스트 612행\n"
     ]
    },
    {
     "name": "stderr",
     "output_type": "stream",
     "text": [
      "회귀(temporal):  17%|█▋        | 1/6 [00:00<00:03,  1.30it/s]"
     ]
    },
    {
     "name": "stdout",
     "output_type": "stream",
     "text": [
      "  RandomForest_Reg  : R²=0.555, MAE=49338, MAPE=7.2%\n",
      "  LinearRegression  : R²=0.521, MAE=61288, MAPE=9.5%\n"
     ]
    },
    {
     "name": "stderr",
     "output_type": "stream",
     "text": [
      "회귀(temporal):  50%|█████     | 3/6 [00:02<00:02,  1.24it/s]"
     ]
    },
    {
     "name": "stdout",
     "output_type": "stream",
     "text": [
      "  GradientBoosting_Reg: R²=0.316, MAE=65378, MAPE=10.3%\n"
     ]
    },
    {
     "name": "stderr",
     "output_type": "stream",
     "text": [
      "회귀(temporal):  67%|██████▋   | 4/6 [00:02<00:01,  1.48it/s]"
     ]
    },
    {
     "name": "stdout",
     "output_type": "stream",
     "text": [
      "  XGBoost_Reg       : R²=0.471, MAE=57791, MAPE=8.7%\n"
     ]
    },
    {
     "name": "stderr",
     "output_type": "stream",
     "text": [
      "회귀(temporal):  83%|████████▎ | 5/6 [00:04<00:01,  1.02s/it]"
     ]
    },
    {
     "name": "stdout",
     "output_type": "stream",
     "text": [
      "  LightGBM_Reg      : R²=0.481, MAE=53737, MAPE=7.9%\n"
     ]
    },
    {
     "name": "stderr",
     "output_type": "stream",
     "text": [
      "                                                             \r"
     ]
    },
    {
     "name": "stdout",
     "output_type": "stream",
     "text": [
      "  CatBoost_Reg      : R²=0.529, MAE=49454, MAPE=7.3%\n",
      "\n",
      "--- 분류 모델 평가 (temporal) ---\n",
      "분류용 데이터: 학습 2446행, 테스트 612행\n",
      "학습 세트 등급 분포: {0: 453, 1: 1309, 2: 435, 3: 249}\n",
      "테스트 세트 등급 분포: {0: 5, 1: 373, 2: 176, 3: 58}\n"
     ]
    },
    {
     "name": "stderr",
     "output_type": "stream",
     "text": [
      "분류(temporal):  17%|█▋        | 1/6 [00:00<00:01,  3.53it/s]"
     ]
    },
    {
     "name": "stdout",
     "output_type": "stream",
     "text": [
      "  RandomForest_Clf  : ACC=0.750, F1=0.485, 극값F1=0.514\n"
     ]
    },
    {
     "name": "stderr",
     "output_type": "stream",
     "text": [
      "분류(temporal):  33%|███▎      | 2/6 [00:06<00:15,  3.91s/it]"
     ]
    },
    {
     "name": "stdout",
     "output_type": "stream",
     "text": [
      "  GradientBoosting_Clf: ACC=0.703, F1=0.500, 극값F1=0.416\n",
      "  LogisticRegression_Clf: ACC=0.317, F1=0.310, 극값F1=0.201\n"
     ]
    },
    {
     "name": "stderr",
     "output_type": "stream",
     "text": [
      "분류(temporal):  67%|██████▋   | 4/6 [00:08<00:03,  1.97s/it]"
     ]
    },
    {
     "name": "stdout",
     "output_type": "stream",
     "text": [
      "  XGBoost_Clf       : ACC=0.711, F1=0.556, 극값F1=0.493\n"
     ]
    },
    {
     "name": "stderr",
     "output_type": "stream",
     "text": [
      "분류(temporal):  83%|████████▎ | 5/6 [00:15<00:03,  3.56s/it]"
     ]
    },
    {
     "name": "stdout",
     "output_type": "stream",
     "text": [
      "  LightGBM_Clf      : ACC=0.683, F1=0.502, 극값F1=0.434\n"
     ]
    },
    {
     "name": "stderr",
     "output_type": "stream",
     "text": [
      "                                                             \r"
     ]
    },
    {
     "name": "stdout",
     "output_type": "stream",
     "text": [
      "  CatBoost_Clf      : ACC=0.672, F1=0.509, 극값F1=0.422\n",
      "\n",
      "==================================================\n",
      "분할 방법: STRATIFIED\n",
      "==================================================\n",
      "\n",
      "--- 회귀 모델 평가 (random_shuffle) ---\n",
      "회귀용 데이터: 학습 2446행, 테스트 612행\n"
     ]
    },
    {
     "name": "stderr",
     "output_type": "stream",
     "text": [
      "회귀(random_shuffle):  17%|█▋        | 1/6 [00:00<00:03,  1.28it/s]"
     ]
    },
    {
     "name": "stdout",
     "output_type": "stream",
     "text": [
      "  RandomForest_Reg  : R²=0.612, MAE=47245, MAPE=7.0%\n",
      "  LinearRegression  : R²=0.592, MAE=50476, MAPE=7.5%\n"
     ]
    },
    {
     "name": "stderr",
     "output_type": "stream",
     "text": [
      "회귀(random_shuffle):  50%|█████     | 3/6 [00:02<00:02,  1.15it/s]"
     ]
    },
    {
     "name": "stdout",
     "output_type": "stream",
     "text": [
      "  GradientBoosting_Reg: R²=0.616, MAE=47261, MAPE=7.0%\n"
     ]
    },
    {
     "name": "stderr",
     "output_type": "stream",
     "text": [
      "회귀(random_shuffle):  67%|██████▋   | 4/6 [00:03<00:01,  1.39it/s]"
     ]
    },
    {
     "name": "stdout",
     "output_type": "stream",
     "text": [
      "  XGBoost_Reg       : R²=0.647, MAE=45629, MAPE=6.7%\n"
     ]
    },
    {
     "name": "stderr",
     "output_type": "stream",
     "text": [
      "회귀(random_shuffle):  83%|████████▎ | 5/6 [00:04<00:01,  1.05s/it]"
     ]
    },
    {
     "name": "stdout",
     "output_type": "stream",
     "text": [
      "  LightGBM_Reg      : R²=0.610, MAE=48288, MAPE=7.2%\n"
     ]
    },
    {
     "name": "stderr",
     "output_type": "stream",
     "text": [
      "                                                                   \r"
     ]
    },
    {
     "name": "stdout",
     "output_type": "stream",
     "text": [
      "  CatBoost_Reg      : R²=0.644, MAE=44731, MAPE=6.6%\n",
      "\n",
      "--- 분류 모델 평가 (stratified) ---\n",
      "분류용 데이터: 학습 2446행, 테스트 612행\n",
      "학습 세트 등급 분포: {0: 366, 1: 1345, 2: 489, 3: 246}\n",
      "테스트 세트 등급 분포: {0: 92, 1: 337, 2: 122, 3: 61}\n"
     ]
    },
    {
     "name": "stderr",
     "output_type": "stream",
     "text": [
      "분류(stratified):  17%|█▋        | 1/6 [00:00<00:01,  3.62it/s]"
     ]
    },
    {
     "name": "stdout",
     "output_type": "stream",
     "text": [
      "  RandomForest_Clf  : ACC=0.725, F1=0.658, 극값F1=0.650\n"
     ]
    },
    {
     "name": "stderr",
     "output_type": "stream",
     "text": [
      "분류(stratified):  33%|███▎      | 2/6 [00:06<00:16,  4.00s/it]"
     ]
    },
    {
     "name": "stdout",
     "output_type": "stream",
     "text": [
      "  GradientBoosting_Clf: ACC=0.730, F1=0.658, 극값F1=0.648\n",
      "  LogisticRegression_Clf: ACC=0.614, F1=0.580, 극값F1=0.597\n"
     ]
    },
    {
     "name": "stderr",
     "output_type": "stream",
     "text": [
      "분류(stratified):  67%|██████▋   | 4/6 [00:08<00:04,  2.03s/it]"
     ]
    },
    {
     "name": "stdout",
     "output_type": "stream",
     "text": [
      "  XGBoost_Clf       : ACC=0.747, F1=0.672, 극값F1=0.652\n"
     ]
    },
    {
     "name": "stderr",
     "output_type": "stream",
     "text": [
      "분류(stratified):  83%|████████▎ | 5/6 [00:15<00:03,  3.56s/it]"
     ]
    },
    {
     "name": "stdout",
     "output_type": "stream",
     "text": [
      "  LightGBM_Clf      : ACC=0.742, F1=0.666, 극값F1=0.642\n"
     ]
    },
    {
     "name": "stderr",
     "output_type": "stream",
     "text": [
      "                                                               "
     ]
    },
    {
     "name": "stdout",
     "output_type": "stream",
     "text": [
      "  CatBoost_Clf      : ACC=0.681, F1=0.636, 극값F1=0.636\n",
      "    최고 회귀 모델: XGBoost_Reg (R²=0.647)\n"
     ]
    },
    {
     "name": "stderr",
     "output_type": "stream",
     "text": [
      "\r"
     ]
    },
    {
     "name": "stdout",
     "output_type": "stream",
     "text": [
      "    최고 분류 모델: XGBoost_Clf (F1=0.672)\n",
      "    regression 예측 완료: 41개\n",
      "    classification 예측 완료: 41개\n",
      "\n",
      "[JUNGNANG 센터 처리]\n",
      "  원본 학습 데이터: 3062행\n",
      "  원본 예측 데이터: 41행\n",
      "  처리된 학습 데이터: 3058행\n",
      "\n",
      "======================================================================\n",
      "센터: jungnang - Stratified vs 시계열 분할 비교\n",
      "======================================================================\n",
      "데이터 크기: 3058행, 44컬럼\n",
      "등급 분포: {0.0: 460, 1.0: 1680, 2.0: 611, 3.0: 307}\n",
      "클래스 불균형 비율: 5.5:1 (최대:1680, 최소:307)\n",
      "\n",
      "==================================================\n",
      "분할 방법: TEMPORAL\n",
      "==================================================\n",
      "\n",
      "--- 회귀 모델 평가 (temporal) ---\n",
      "회귀용 데이터: 학습 2446행, 테스트 612행\n"
     ]
    },
    {
     "name": "stderr",
     "output_type": "stream",
     "text": [
      "회귀(temporal):  17%|█▋        | 1/6 [00:00<00:04,  1.20it/s]"
     ]
    },
    {
     "name": "stdout",
     "output_type": "stream",
     "text": [
      "  RandomForest_Reg  : R²=0.306, MAE=90969, MAPE=7.1%\n",
      "  LinearRegression  : R²=0.057, MAE=130664, MAPE=10.6%\n"
     ]
    },
    {
     "name": "stderr",
     "output_type": "stream",
     "text": [
      "회귀(temporal):  50%|█████     | 3/6 [00:02<00:02,  1.13it/s]"
     ]
    },
    {
     "name": "stdout",
     "output_type": "stream",
     "text": [
      "  GradientBoosting_Reg: R²=0.024, MAE=121540, MAPE=9.8%\n"
     ]
    },
    {
     "name": "stderr",
     "output_type": "stream",
     "text": [
      "회귀(temporal):  67%|██████▋   | 4/6 [00:03<00:01,  1.31it/s]"
     ]
    },
    {
     "name": "stdout",
     "output_type": "stream",
     "text": [
      "  XGBoost_Reg       : R²=0.265, MAE=97581, MAPE=7.7%\n"
     ]
    },
    {
     "name": "stderr",
     "output_type": "stream",
     "text": [
      "회귀(temporal):  83%|████████▎ | 5/6 [00:04<00:01,  1.08s/it]"
     ]
    },
    {
     "name": "stdout",
     "output_type": "stream",
     "text": [
      "  LightGBM_Reg      : R²=0.244, MAE=98427, MAPE=7.7%\n"
     ]
    },
    {
     "name": "stderr",
     "output_type": "stream",
     "text": [
      "                                                             \r"
     ]
    },
    {
     "name": "stdout",
     "output_type": "stream",
     "text": [
      "  CatBoost_Reg      : R²=0.262, MAE=98421, MAPE=7.8%\n",
      "\n",
      "--- 분류 모델 평가 (temporal) ---\n",
      "분류용 데이터: 학습 2446행, 테스트 612행\n",
      "학습 세트 등급 분포: {0: 405, 1: 1321, 2: 458, 3: 262}\n",
      "테스트 세트 등급 분포: {0: 55, 1: 359, 2: 153, 3: 45}\n"
     ]
    },
    {
     "name": "stderr",
     "output_type": "stream",
     "text": [
      "분류(temporal):  17%|█▋        | 1/6 [00:00<00:01,  3.07it/s]"
     ]
    },
    {
     "name": "stdout",
     "output_type": "stream",
     "text": [
      "  RandomForest_Clf  : ACC=0.619, F1=0.420, 극값F1=0.301\n"
     ]
    },
    {
     "name": "stderr",
     "output_type": "stream",
     "text": [
      "분류(temporal):  33%|███▎      | 2/6 [00:07<00:17,  4.43s/it]"
     ]
    },
    {
     "name": "stdout",
     "output_type": "stream",
     "text": [
      "  GradientBoosting_Clf: ACC=0.516, F1=0.404, 극값F1=0.316\n",
      "  LogisticRegression_Clf: ACC=0.346, F1=0.285, 극값F1=0.307\n"
     ]
    },
    {
     "name": "stderr",
     "output_type": "stream",
     "text": [
      "분류(temporal):  67%|██████▋   | 4/6 [00:09<00:04,  2.27s/it]"
     ]
    },
    {
     "name": "stdout",
     "output_type": "stream",
     "text": [
      "  XGBoost_Clf       : ACC=0.528, F1=0.418, 극값F1=0.312\n"
     ]
    },
    {
     "name": "stderr",
     "output_type": "stream",
     "text": [
      "분류(temporal):  83%|████████▎ | 5/6 [00:16<00:03,  3.79s/it]"
     ]
    },
    {
     "name": "stdout",
     "output_type": "stream",
     "text": [
      "  LightGBM_Clf      : ACC=0.559, F1=0.499, 극값F1=0.410\n"
     ]
    },
    {
     "name": "stderr",
     "output_type": "stream",
     "text": [
      "                                                             \r"
     ]
    },
    {
     "name": "stdout",
     "output_type": "stream",
     "text": [
      "  CatBoost_Clf      : ACC=0.557, F1=0.415, 극값F1=0.316\n",
      "\n",
      "==================================================\n",
      "분할 방법: STRATIFIED\n",
      "==================================================\n",
      "\n",
      "--- 회귀 모델 평가 (random_shuffle) ---\n",
      "회귀용 데이터: 학습 2446행, 테스트 612행\n"
     ]
    },
    {
     "name": "stderr",
     "output_type": "stream",
     "text": [
      "회귀(random_shuffle):  17%|█▋        | 1/6 [00:00<00:04,  1.24it/s]"
     ]
    },
    {
     "name": "stdout",
     "output_type": "stream",
     "text": [
      "  RandomForest_Reg  : R²=0.577, MAE=76016, MAPE=5.5%\n",
      "  LinearRegression  : R²=0.522, MAE=89997, MAPE=6.7%\n"
     ]
    },
    {
     "name": "stderr",
     "output_type": "stream",
     "text": [
      "회귀(random_shuffle):  50%|█████     | 3/6 [00:02<00:02,  1.10it/s]"
     ]
    },
    {
     "name": "stdout",
     "output_type": "stream",
     "text": [
      "  GradientBoosting_Reg: R²=0.561, MAE=79149, MAPE=5.7%\n"
     ]
    },
    {
     "name": "stderr",
     "output_type": "stream",
     "text": [
      "회귀(random_shuffle):  67%|██████▋   | 4/6 [00:03<00:01,  1.24it/s]"
     ]
    },
    {
     "name": "stdout",
     "output_type": "stream",
     "text": [
      "  XGBoost_Reg       : R²=0.581, MAE=75400, MAPE=5.5%\n"
     ]
    },
    {
     "name": "stderr",
     "output_type": "stream",
     "text": [
      "회귀(random_shuffle):  83%|████████▎ | 5/6 [00:05<00:01,  1.12s/it]"
     ]
    },
    {
     "name": "stdout",
     "output_type": "stream",
     "text": [
      "  LightGBM_Reg      : R²=0.554, MAE=79140, MAPE=5.7%\n"
     ]
    },
    {
     "name": "stderr",
     "output_type": "stream",
     "text": [
      "                                                                   \r"
     ]
    },
    {
     "name": "stdout",
     "output_type": "stream",
     "text": [
      "  CatBoost_Reg      : R²=0.607, MAE=74398, MAPE=5.4%\n",
      "\n",
      "--- 분류 모델 평가 (stratified) ---\n",
      "분류용 데이터: 학습 2446행, 테스트 612행\n",
      "학습 세트 등급 분포: {0: 368, 1: 1344, 2: 489, 3: 245}\n",
      "테스트 세트 등급 분포: {0: 92, 1: 336, 2: 122, 3: 62}\n"
     ]
    },
    {
     "name": "stderr",
     "output_type": "stream",
     "text": [
      "분류(stratified):  17%|█▋        | 1/6 [00:00<00:01,  3.37it/s]"
     ]
    },
    {
     "name": "stdout",
     "output_type": "stream",
     "text": [
      "  RandomForest_Clf  : ACC=0.709, F1=0.626, 극값F1=0.601\n"
     ]
    },
    {
     "name": "stderr",
     "output_type": "stream",
     "text": [
      "분류(stratified):  33%|███▎      | 2/6 [00:07<00:17,  4.36s/it]"
     ]
    },
    {
     "name": "stdout",
     "output_type": "stream",
     "text": [
      "  GradientBoosting_Clf: ACC=0.719, F1=0.631, 극값F1=0.594\n",
      "  LogisticRegression_Clf: ACC=0.560, F1=0.549, 극값F1=0.544\n"
     ]
    },
    {
     "name": "stderr",
     "output_type": "stream",
     "text": [
      "분류(stratified):  67%|██████▋   | 4/6 [00:09<00:04,  2.19s/it]"
     ]
    },
    {
     "name": "stdout",
     "output_type": "stream",
     "text": [
      "  XGBoost_Clf       : ACC=0.745, F1=0.660, 극값F1=0.634\n"
     ]
    },
    {
     "name": "stderr",
     "output_type": "stream",
     "text": [
      "분류(stratified):  83%|████████▎ | 5/6 [00:16<00:03,  3.71s/it]"
     ]
    },
    {
     "name": "stdout",
     "output_type": "stream",
     "text": [
      "  LightGBM_Clf      : ACC=0.739, F1=0.646, 극값F1=0.632\n"
     ]
    },
    {
     "name": "stderr",
     "output_type": "stream",
     "text": [
      "                                                               "
     ]
    },
    {
     "name": "stdout",
     "output_type": "stream",
     "text": [
      "  CatBoost_Clf      : ACC=0.683, F1=0.639, 극값F1=0.650\n",
      "    최고 회귀 모델: CatBoost_Reg (R²=0.607)\n"
     ]
    },
    {
     "name": "stderr",
     "output_type": "stream",
     "text": [
      "\r"
     ]
    },
    {
     "name": "stdout",
     "output_type": "stream",
     "text": [
      "    최고 분류 모델: XGBoost_Clf (F1=0.660)\n",
      "    regression 예측 완료: 41개\n",
      "    classification 예측 완료: 41개\n",
      "\n",
      "[SEONAM 센터 처리]\n",
      "  원본 학습 데이터: 3062행\n",
      "  원본 예측 데이터: 41행\n",
      "  처리된 학습 데이터: 3058행\n",
      "\n",
      "======================================================================\n",
      "센터: seonam - Stratified vs 시계열 분할 비교\n",
      "======================================================================\n",
      "데이터 크기: 3058행, 43컬럼\n",
      "등급 분포: {0.0: 459, 1.0: 1680, 2.0: 612, 3.0: 307}\n",
      "클래스 불균형 비율: 5.5:1 (최대:1680, 최소:307)\n",
      "\n",
      "==================================================\n",
      "분할 방법: TEMPORAL\n",
      "==================================================\n",
      "\n",
      "--- 회귀 모델 평가 (temporal) ---\n",
      "회귀용 데이터: 학습 2446행, 테스트 612행\n"
     ]
    },
    {
     "name": "stderr",
     "output_type": "stream",
     "text": [
      "회귀(temporal):  17%|█▋        | 1/6 [00:00<00:03,  1.27it/s]"
     ]
    },
    {
     "name": "stdout",
     "output_type": "stream",
     "text": [
      "  RandomForest_Reg  : R²=0.036, MAE=158002, MAPE=11.0%\n",
      "  LinearRegression  : R²=0.064, MAE=155943, MAPE=10.8%\n"
     ]
    },
    {
     "name": "stderr",
     "output_type": "stream",
     "text": [
      "회귀(temporal):  50%|█████     | 3/6 [00:02<00:02,  1.17it/s]"
     ]
    },
    {
     "name": "stdout",
     "output_type": "stream",
     "text": [
      "  GradientBoosting_Reg: R²=0.283, MAE=120904, MAPE=8.2%\n"
     ]
    },
    {
     "name": "stderr",
     "output_type": "stream",
     "text": [
      "회귀(temporal):  67%|██████▋   | 4/6 [00:03<00:01,  1.39it/s]"
     ]
    },
    {
     "name": "stdout",
     "output_type": "stream",
     "text": [
      "  XGBoost_Reg       : R²=0.228, MAE=129738, MAPE=8.8%\n"
     ]
    },
    {
     "name": "stderr",
     "output_type": "stream",
     "text": [
      "회귀(temporal):  83%|████████▎ | 5/6 [00:04<00:01,  1.03s/it]"
     ]
    },
    {
     "name": "stdout",
     "output_type": "stream",
     "text": [
      "  LightGBM_Reg      : R²=0.268, MAE=124214, MAPE=8.4%\n"
     ]
    },
    {
     "name": "stderr",
     "output_type": "stream",
     "text": [
      "                                                             \r"
     ]
    },
    {
     "name": "stdout",
     "output_type": "stream",
     "text": [
      "  CatBoost_Reg      : R²=0.343, MAE=121480, MAPE=8.3%\n",
      "\n",
      "--- 분류 모델 평가 (temporal) ---\n",
      "분류용 데이터: 학습 2446행, 테스트 612행\n",
      "학습 세트 등급 분포: {0: 136, 1: 1493, 2: 544, 3: 273}\n",
      "테스트 세트 등급 분포: {0: 323, 1: 187, 2: 68, 3: 34}\n"
     ]
    },
    {
     "name": "stderr",
     "output_type": "stream",
     "text": [
      "분류(temporal):  17%|█▋        | 1/6 [00:00<00:01,  3.46it/s]"
     ]
    },
    {
     "name": "stdout",
     "output_type": "stream",
     "text": [
      "  RandomForest_Clf  : ACC=0.297, F1=0.306, 극값F1=0.128\n"
     ]
    },
    {
     "name": "stderr",
     "output_type": "stream",
     "text": [
      "분류(temporal):  33%|███▎      | 2/6 [00:07<00:17,  4.26s/it]"
     ]
    },
    {
     "name": "stdout",
     "output_type": "stream",
     "text": [
      "  GradientBoosting_Clf: ACC=0.467, F1=0.438, 극값F1=0.552\n",
      "  LogisticRegression_Clf: ACC=0.271, F1=0.306, 극값F1=0.229\n"
     ]
    },
    {
     "name": "stderr",
     "output_type": "stream",
     "text": [
      "분류(temporal):  67%|██████▋   | 4/6 [00:09<00:04,  2.14s/it]"
     ]
    },
    {
     "name": "stdout",
     "output_type": "stream",
     "text": [
      "  XGBoost_Clf       : ACC=0.309, F1=0.291, 극값F1=0.108\n"
     ]
    },
    {
     "name": "stderr",
     "output_type": "stream",
     "text": [
      "분류(temporal):  83%|████████▎ | 5/6 [00:16<00:03,  3.68s/it]"
     ]
    },
    {
     "name": "stdout",
     "output_type": "stream",
     "text": [
      "  LightGBM_Clf      : ACC=0.297, F1=0.264, 극값F1=0.047\n"
     ]
    },
    {
     "name": "stderr",
     "output_type": "stream",
     "text": [
      "                                                             \r"
     ]
    },
    {
     "name": "stdout",
     "output_type": "stream",
     "text": [
      "  CatBoost_Clf      : ACC=0.258, F1=0.274, 극값F1=0.159\n",
      "\n",
      "==================================================\n",
      "분할 방법: STRATIFIED\n",
      "==================================================\n",
      "\n",
      "--- 회귀 모델 평가 (random_shuffle) ---\n",
      "회귀용 데이터: 학습 2446행, 테스트 612행\n"
     ]
    },
    {
     "name": "stderr",
     "output_type": "stream",
     "text": [
      "회귀(random_shuffle):  17%|█▋        | 1/6 [00:00<00:04,  1.08it/s]"
     ]
    },
    {
     "name": "stdout",
     "output_type": "stream",
     "text": [
      "  RandomForest_Reg  : R²=0.562, MAE=91583, MAPE=5.4%\n",
      "  LinearRegression  : R²=0.529, MAE=100158, MAPE=6.0%\n"
     ]
    },
    {
     "name": "stderr",
     "output_type": "stream",
     "text": [
      "회귀(random_shuffle):  50%|█████     | 3/6 [00:02<00:02,  1.06it/s]"
     ]
    },
    {
     "name": "stdout",
     "output_type": "stream",
     "text": [
      "  GradientBoosting_Reg: R²=0.599, MAE=87066, MAPE=5.2%\n"
     ]
    },
    {
     "name": "stderr",
     "output_type": "stream",
     "text": [
      "회귀(random_shuffle):  67%|██████▋   | 4/6 [00:03<00:01,  1.27it/s]"
     ]
    },
    {
     "name": "stdout",
     "output_type": "stream",
     "text": [
      "  XGBoost_Reg       : R²=0.587, MAE=87231, MAPE=5.1%\n"
     ]
    },
    {
     "name": "stderr",
     "output_type": "stream",
     "text": [
      "회귀(random_shuffle):  83%|████████▎ | 5/6 [00:05<00:01,  1.15s/it]"
     ]
    },
    {
     "name": "stdout",
     "output_type": "stream",
     "text": [
      "  LightGBM_Reg      : R²=0.567, MAE=90044, MAPE=5.3%\n"
     ]
    },
    {
     "name": "stderr",
     "output_type": "stream",
     "text": [
      "                                                                   \r"
     ]
    },
    {
     "name": "stdout",
     "output_type": "stream",
     "text": [
      "  CatBoost_Reg      : R²=0.592, MAE=86796, MAPE=5.1%\n",
      "\n",
      "--- 분류 모델 평가 (stratified) ---\n",
      "분류용 데이터: 학습 2446행, 테스트 612행\n",
      "학습 세트 등급 분포: {0: 367, 1: 1344, 2: 489, 3: 246}\n",
      "테스트 세트 등급 분포: {0: 92, 1: 336, 2: 123, 3: 61}\n"
     ]
    },
    {
     "name": "stderr",
     "output_type": "stream",
     "text": [
      "분류(stratified):  17%|█▋        | 1/6 [00:00<00:01,  3.12it/s]"
     ]
    },
    {
     "name": "stdout",
     "output_type": "stream",
     "text": [
      "  RandomForest_Clf  : ACC=0.724, F1=0.653, 극값F1=0.679\n"
     ]
    },
    {
     "name": "stderr",
     "output_type": "stream",
     "text": [
      "분류(stratified):  33%|███▎      | 2/6 [00:07<00:17,  4.39s/it]"
     ]
    },
    {
     "name": "stdout",
     "output_type": "stream",
     "text": [
      "  GradientBoosting_Clf: ACC=0.732, F1=0.659, 극값F1=0.676\n",
      "  LogisticRegression_Clf: ACC=0.596, F1=0.564, 극값F1=0.576\n"
     ]
    },
    {
     "name": "stderr",
     "output_type": "stream",
     "text": [
      "분류(stratified):  67%|██████▋   | 4/6 [00:09<00:04,  2.18s/it]"
     ]
    },
    {
     "name": "stdout",
     "output_type": "stream",
     "text": [
      "  XGBoost_Clf       : ACC=0.743, F1=0.658, 극값F1=0.664\n"
     ]
    },
    {
     "name": "stderr",
     "output_type": "stream",
     "text": [
      "분류(stratified):  83%|████████▎ | 5/6 [00:16<00:03,  3.74s/it]"
     ]
    },
    {
     "name": "stdout",
     "output_type": "stream",
     "text": [
      "  LightGBM_Clf      : ACC=0.737, F1=0.640, 극값F1=0.634\n"
     ]
    },
    {
     "name": "stderr",
     "output_type": "stream",
     "text": [
      "                                                               "
     ]
    },
    {
     "name": "stdout",
     "output_type": "stream",
     "text": [
      "  CatBoost_Clf      : ACC=0.691, F1=0.641, 극값F1=0.669\n",
      "    최고 회귀 모델: GradientBoosting_Reg (R²=0.599)\n"
     ]
    },
    {
     "name": "stderr",
     "output_type": "stream",
     "text": [
      "\r"
     ]
    },
    {
     "name": "stdout",
     "output_type": "stream",
     "text": [
      "    최고 분류 모델: GradientBoosting_Clf (F1=0.659)\n",
      "    regression 예측 완료: 41개\n",
      "    classification 예측 완료: 41개\n",
      "\n",
      "[TANCHEON 센터 처리]\n",
      "  원본 학습 데이터: 3062행\n",
      "  원본 예측 데이터: 41행\n",
      "  처리된 학습 데이터: 3058행\n",
      "\n",
      "======================================================================\n",
      "센터: tancheon - Stratified vs 시계열 분할 비교\n",
      "======================================================================\n",
      "데이터 크기: 3058행, 42컬럼\n",
      "등급 분포: {0.0: 459, 1.0: 1680, 2.0: 612, 3.0: 307}\n",
      "클래스 불균형 비율: 5.5:1 (최대:1680, 최소:307)\n",
      "\n",
      "==================================================\n",
      "분할 방법: TEMPORAL\n",
      "==================================================\n",
      "\n",
      "--- 회귀 모델 평가 (temporal) ---\n",
      "회귀용 데이터: 학습 2446행, 테스트 612행\n"
     ]
    },
    {
     "name": "stderr",
     "output_type": "stream",
     "text": [
      "회귀(temporal):  17%|█▋        | 1/6 [00:00<00:03,  1.38it/s]"
     ]
    },
    {
     "name": "stdout",
     "output_type": "stream",
     "text": [
      "  RandomForest_Reg  : R²=0.278, MAE=62795, MAPE=8.3%\n",
      "  LinearRegression  : R²=0.296, MAE=66238, MAPE=8.8%\n"
     ]
    },
    {
     "name": "stderr",
     "output_type": "stream",
     "text": [
      "회귀(temporal):  50%|█████     | 3/6 [00:02<00:02,  1.27it/s]"
     ]
    },
    {
     "name": "stdout",
     "output_type": "stream",
     "text": [
      "  GradientBoosting_Reg: R²=-0.392, MAE=90195, MAPE=12.3%\n"
     ]
    },
    {
     "name": "stderr",
     "output_type": "stream",
     "text": [
      "회귀(temporal):  67%|██████▋   | 4/6 [00:02<00:01,  1.45it/s]"
     ]
    },
    {
     "name": "stdout",
     "output_type": "stream",
     "text": [
      "  XGBoost_Reg       : R²=0.187, MAE=69068, MAPE=9.2%\n"
     ]
    },
    {
     "name": "stderr",
     "output_type": "stream",
     "text": [
      "회귀(temporal):  83%|████████▎ | 5/6 [00:04<00:01,  1.03s/it]"
     ]
    },
    {
     "name": "stdout",
     "output_type": "stream",
     "text": [
      "  LightGBM_Reg      : R²=0.232, MAE=64065, MAPE=8.4%\n"
     ]
    },
    {
     "name": "stderr",
     "output_type": "stream",
     "text": [
      "                                                             \r"
     ]
    },
    {
     "name": "stdout",
     "output_type": "stream",
     "text": [
      "  CatBoost_Reg      : R²=0.261, MAE=64882, MAPE=8.6%\n",
      "\n",
      "--- 분류 모델 평가 (temporal) ---\n",
      "분류용 데이터: 학습 2446행, 테스트 612행\n",
      "학습 세트 등급 분포: {0: 345, 1: 1348, 2: 496, 3: 257}\n",
      "테스트 세트 등급 분포: {0: 114, 1: 332, 2: 116, 3: 50}\n"
     ]
    },
    {
     "name": "stderr",
     "output_type": "stream",
     "text": [
      "분류(temporal):  17%|█▋        | 1/6 [00:00<00:01,  3.40it/s]"
     ]
    },
    {
     "name": "stdout",
     "output_type": "stream",
     "text": [
      "  RandomForest_Clf  : ACC=0.547, F1=0.389, 극값F1=0.208\n"
     ]
    },
    {
     "name": "stderr",
     "output_type": "stream",
     "text": [
      "분류(temporal):  33%|███▎      | 2/6 [00:06<00:15,  3.90s/it]"
     ]
    },
    {
     "name": "stdout",
     "output_type": "stream",
     "text": [
      "  GradientBoosting_Clf: ACC=0.374, F1=0.372, 극값F1=0.385\n",
      "  LogisticRegression_Clf: ACC=0.273, F1=0.267, 극값F1=0.444\n"
     ]
    },
    {
     "name": "stderr",
     "output_type": "stream",
     "text": [
      "분류(temporal):  67%|██████▋   | 4/6 [00:08<00:03,  1.99s/it]"
     ]
    },
    {
     "name": "stdout",
     "output_type": "stream",
     "text": [
      "  XGBoost_Clf       : ACC=0.484, F1=0.399, 극값F1=0.309\n"
     ]
    },
    {
     "name": "stderr",
     "output_type": "stream",
     "text": [
      "분류(temporal):  83%|████████▎ | 5/6 [00:16<00:03,  3.89s/it]"
     ]
    },
    {
     "name": "stdout",
     "output_type": "stream",
     "text": [
      "  LightGBM_Clf      : ACC=0.453, F1=0.372, 극값F1=0.307\n"
     ]
    },
    {
     "name": "stderr",
     "output_type": "stream",
     "text": [
      "                                                             \r"
     ]
    },
    {
     "name": "stdout",
     "output_type": "stream",
     "text": [
      "  CatBoost_Clf      : ACC=0.358, F1=0.357, 극값F1=0.374\n",
      "\n",
      "==================================================\n",
      "분할 방법: STRATIFIED\n",
      "==================================================\n",
      "\n",
      "--- 회귀 모델 평가 (random_shuffle) ---\n",
      "회귀용 데이터: 학습 2446행, 테스트 612행\n"
     ]
    },
    {
     "name": "stderr",
     "output_type": "stream",
     "text": [
      "회귀(random_shuffle):  17%|█▋        | 1/6 [00:00<00:03,  1.33it/s]"
     ]
    },
    {
     "name": "stdout",
     "output_type": "stream",
     "text": [
      "  RandomForest_Reg  : R²=0.500, MAE=48124, MAPE=6.0%\n",
      "  LinearRegression  : R²=0.380, MAE=57519, MAPE=7.3%\n"
     ]
    },
    {
     "name": "stderr",
     "output_type": "stream",
     "text": [
      "회귀(random_shuffle):  50%|█████     | 3/6 [00:02<00:02,  1.23it/s]"
     ]
    },
    {
     "name": "stdout",
     "output_type": "stream",
     "text": [
      "  GradientBoosting_Reg: R²=0.511, MAE=47473, MAPE=5.9%\n"
     ]
    },
    {
     "name": "stderr",
     "output_type": "stream",
     "text": [
      "회귀(random_shuffle):  67%|██████▋   | 4/6 [00:02<00:01,  1.42it/s]"
     ]
    },
    {
     "name": "stdout",
     "output_type": "stream",
     "text": [
      "  XGBoost_Reg       : R²=0.512, MAE=46344, MAPE=5.8%\n"
     ]
    },
    {
     "name": "stderr",
     "output_type": "stream",
     "text": [
      "회귀(random_shuffle):  83%|████████▎ | 5/6 [00:04<00:01,  1.04s/it]"
     ]
    },
    {
     "name": "stdout",
     "output_type": "stream",
     "text": [
      "  LightGBM_Reg      : R²=0.493, MAE=48198, MAPE=6.0%\n"
     ]
    },
    {
     "name": "stderr",
     "output_type": "stream",
     "text": [
      "                                                                   \r"
     ]
    },
    {
     "name": "stdout",
     "output_type": "stream",
     "text": [
      "  CatBoost_Reg      : R²=0.511, MAE=46737, MAPE=5.8%\n",
      "\n",
      "--- 분류 모델 평가 (stratified) ---\n",
      "분류용 데이터: 학습 2446행, 테스트 612행\n",
      "학습 세트 등급 분포: {0: 367, 1: 1344, 2: 489, 3: 246}\n",
      "테스트 세트 등급 분포: {0: 92, 1: 336, 2: 123, 3: 61}\n"
     ]
    },
    {
     "name": "stderr",
     "output_type": "stream",
     "text": [
      "분류(stratified):  17%|█▋        | 1/6 [00:00<00:01,  2.91it/s]"
     ]
    },
    {
     "name": "stdout",
     "output_type": "stream",
     "text": [
      "  RandomForest_Clf  : ACC=0.637, F1=0.534, 극값F1=0.504\n"
     ]
    },
    {
     "name": "stderr",
     "output_type": "stream",
     "text": [
      "분류(stratified):  33%|███▎      | 2/6 [00:07<00:16,  4.21s/it]"
     ]
    },
    {
     "name": "stdout",
     "output_type": "stream",
     "text": [
      "  GradientBoosting_Clf: ACC=0.649, F1=0.546, 극값F1=0.504\n",
      "  LogisticRegression_Clf: ACC=0.448, F1=0.430, 극값F1=0.455\n"
     ]
    },
    {
     "name": "stderr",
     "output_type": "stream",
     "text": [
      "분류(stratified):  67%|██████▋   | 4/6 [00:09<00:04,  2.19s/it]"
     ]
    },
    {
     "name": "stdout",
     "output_type": "stream",
     "text": [
      "  XGBoost_Clf       : ACC=0.660, F1=0.556, 극값F1=0.513\n"
     ]
    },
    {
     "name": "stderr",
     "output_type": "stream",
     "text": [
      "분류(stratified):  83%|████████▎ | 5/6 [00:16<00:03,  3.71s/it]"
     ]
    },
    {
     "name": "stdout",
     "output_type": "stream",
     "text": [
      "  LightGBM_Clf      : ACC=0.652, F1=0.555, 극값F1=0.523\n"
     ]
    },
    {
     "name": "stderr",
     "output_type": "stream",
     "text": [
      "                                                               "
     ]
    },
    {
     "name": "stdout",
     "output_type": "stream",
     "text": [
      "  CatBoost_Clf      : ACC=0.608, F1=0.559, 극값F1=0.587\n",
      "    최고 회귀 모델: XGBoost_Reg (R²=0.512)\n"
     ]
    },
    {
     "name": "stderr",
     "output_type": "stream",
     "text": [
      "\r"
     ]
    },
    {
     "name": "stdout",
     "output_type": "stream",
     "text": [
      "    최고 분류 모델: CatBoost_Clf (F1=0.559)\n",
      "    regression 예측 완료: 41개\n",
      "    classification 예측 완료: 41개\n",
      "\n",
      "실제 정답값 매칭 중...\n"
     ]
    },
    {
     "name": "stderr",
     "output_type": "stream",
     "text": [
      "정답 매칭: 100%|██████████| 328/328 [00:00<00:00, 624.63it/s]\n"
     ]
    },
    {
     "name": "stdout",
     "output_type": "stream",
     "text": [
      "정답 매칭 완료: 320/328 (97.6%)\n",
      "\n",
      "======================================================================\n",
      "실제 운영 환경 성능 평가\n",
      "======================================================================\n",
      "\n",
      "--- NANJI 센터 ---\n",
      "  회귀 모델 (XGBoost_Reg):\n",
      "    예측 건수: 40\n",
      "    실제 운영 성능:\n",
      "      MAE: 586597.40\n",
      "      RMSE: 648087.00\n",
      "      R²: -5.124\n",
      "      MAPE: 5576049125000005.0%\n",
      "    평균값 비교:\n",
      "      실제: 151011.3\n",
      "      예측: 737608.7\n",
      "  분류 모델 (XGBoost_Clf):\n",
      "    예측 건수: 40\n",
      "    실제 운영 성능:\n",
      "      정확도: 20.0%\n",
      "      Macro F1: 0.171\n",
      "      Weighted F1: 0.091\n",
      "      극값 F1: 0.062\n",
      "    정답 개수: 8/40\n",
      "\n",
      "--- JUNGNANG 센터 ---\n",
      "  회귀 모델 (CatBoost_Reg):\n",
      "    예측 건수: 40\n",
      "    실제 운영 성능:\n",
      "      MAE: 262010.54\n",
      "      RMSE: 325195.02\n",
      "      R²: -1.175\n",
      "      MAPE: 51.6%\n",
      "    평균값 비교:\n",
      "      실제: 1220909.1\n",
      "      예측: 1463658.0\n",
      "  분류 모델 (XGBoost_Clf):\n",
      "    예측 건수: 40\n",
      "    실제 운영 성능:\n",
      "      정확도: 60.0%\n",
      "      Macro F1: 0.263\n",
      "      Weighted F1: 0.598\n",
      "      극값 F1: 0.000\n",
      "    정답 개수: 24/40\n",
      "\n",
      "--- SEONAM 센터 ---\n",
      "  회귀 모델 (GradientBoosting_Reg):\n",
      "    예측 건수: 40\n",
      "    실제 운영 성능:\n",
      "      MAE: 1181587.79\n",
      "      RMSE: 1340467.98\n",
      "      R²: -4.154\n",
      "      MAPE: 11544364547875358.0%\n",
      "    평균값 비교:\n",
      "      실제: 339622.8\n",
      "      예측: 1514656.8\n",
      "  분류 모델 (GradientBoosting_Clf):\n",
      "    예측 건수: 40\n",
      "    실제 운영 성능:\n",
      "      정확도: 15.0%\n",
      "      Macro F1: 0.074\n",
      "      Weighted F1: 0.222\n",
      "      극값 F1: 0.273\n",
      "    정답 개수: 6/40\n",
      "\n",
      "--- TANCHEON 센터 ---\n",
      "  회귀 모델 (XGBoost_Reg):\n",
      "    예측 건수: 40\n",
      "    실제 운영 성능:\n",
      "      MAE: 106683.43\n",
      "      RMSE: 122960.39\n",
      "      R²: -0.519\n",
      "      MAPE: 14.5%\n",
      "    평균값 비교:\n",
      "      실제: 728785.2\n",
      "      예측: 810421.1\n",
      "  분류 모델 (CatBoost_Clf):\n",
      "    예측 건수: 40\n",
      "    실제 운영 성능:\n",
      "      정확도: 32.5%\n",
      "      Macro F1: 0.265\n",
      "      Weighted F1: 0.396\n",
      "      극값 F1: 0.320\n",
      "    정답 개수: 13/40\n"
     ]
    },
    {
     "data": {
      "image/png": "[encoded data removed]",
      "text/plain": [
       "<Figure size 1500x1000 with 4 Axes>"
      ]
     },
     "metadata": {},
     "output_type": "display_data"
    },
    {
     "name": "stdout",
     "output_type": "stream",
     "text": [
      "\n",
      "예측 결과 저장: production_simulation_20250826_211521_predictions.csv\n",
      "성능 요약 저장: production_simulation_20250826_211521_summary.csv\n",
      "학습 결과 저장: production_simulation_20250826_211521_training.csv\n",
      "\n",
      "모든 결과가 저장되었습니다. 파일명 접두사: production_simulation_20250826_211521\n",
      "\n",
      "파이프라인 실행 완료! 소요시간: 204.4초\n",
      "\n",
      "--- 실제 운영 성능 최종 요약 ---\n",
      "\n",
      "NANJI:\n",
      "  regression: {'model_name': 'XGBoost_Reg', 'prediction_count': 40, 'mae': 586597.3953125, 'rmse': 648086.9997079202, 'r2': -5.124026520836579, 'mape': 5576049125000005.0, 'mean_actual': 151011.325, 'mean_predicted': 737608.7203125}\n",
      "  classification: {'model_name': 'XGBoost_Clf', 'prediction_count': 40, 'accuracy': 0.2, 'macro_f1': 0.17132867132867133, 'weighted_f1': 0.09125874125874125, 'extreme_f1': 0.0625, 'correct_count': 8, 'total_count': 40}\n",
      "\n",
      "JUNGNANG:\n",
      "  regression: {'model_name': 'CatBoost_Reg', 'prediction_count': 40, 'mae': 262010.53536270914, 'rmse': 325195.01777793164, 'r2': -1.1751110876226867, 'mape': 51.64453857633078, 'mean_actual': 1220909.1, 'mean_predicted': 1463658.007777755}\n",
      "  classification: {'model_name': 'XGBoost_Clf', 'prediction_count': 40, 'accuracy': 0.6, 'macro_f1': 0.2633637548891786, 'weighted_f1': 0.5977835723598436, 'extreme_f1': 0.0, 'correct_count': 24, 'total_count': 40}\n",
      "\n",
      "SEONAM:\n",
      "  regression: {'model_name': 'GradientBoosting_Reg', 'prediction_count': 40, 'mae': 1181587.7913404286, 'rmse': 1340467.9826725412, 'r2': -4.154432393577882, 'mape': 1.1544364547875358e+16, 'mean_actual': 339622.85, 'mean_predicted': 1514656.764533701}\n",
      "  classification: {'model_name': 'GradientBoosting_Clf', 'prediction_count': 40, 'accuracy': 0.15, 'macro_f1': 0.07376453488372092, 'weighted_f1': 0.22249273255813953, 'extreme_f1': 0.2727272727272727, 'correct_count': 6, 'total_count': 40}\n",
      "\n",
      "TANCHEON:\n",
      "  regression: {'model_name': 'XGBoost_Reg', 'prediction_count': 40, 'mae': 106683.428125, 'rmse': 122960.39352253077, 'r2': -0.5193140368661702, 'mape': 14.548618090539112, 'mean_actual': 728785.2375, 'mean_predicted': 810421.071875}\n",
      "  classification: {'model_name': 'CatBoost_Clf', 'prediction_count': 40, 'accuracy': 0.325, 'macro_f1': 0.26490757304710794, 'weighted_f1': 0.39555754323196185, 'extreme_f1': 0.32, 'correct_count': 13, 'total_count': 40}\n"
     ]
    }
   ],
   "source": [
    "# ================================================================================================\n",
    "# 셀 2: 최종 실행\n",
    "# ================================================================================================\n",
    "# results = run_safe_production_pipeline(cutoff_date='2025-05-20')\n",
    "# 새로 추가\n",
    "results = run_complete_production_pipeline(cutoff_date='2025-05-20')\n",
    "\n",
    "'''\n",
    "if results:\n",
    "    final_table, trained_models, performance_summary = results\n",
    "    print(\"\\n--- 최종 결과 요약 ---\")\n",
    "    print(pd.DataFrame(performance_summary))'''\n",
    "    \n",
    "    \n",
    "if results:\n",
    "    final_table, trained_models, production_performance = results\n",
    "    print(\"\\n--- 실제 운영 성능 최종 요약 ---\")\n",
    "    if production_performance:\n",
    "        for center, perf in production_performance.items():\n",
    "            print(f\"\\n{center.upper()}:\")\n",
    "            for task, metrics in perf.items():\n",
    "                print(f\"  {task}: {metrics}\")"
   ]
  },
  {
   "cell_type": "code",
   "execution_count": null,
   "id": "5690530e",
   "metadata": {},
   "outputs": [],
   "source": []
  },
  {
   "cell_type": "markdown",
   "id": "db4c63e1",
   "metadata": {},
   "source": [
    "# 새로 하는거\n"
   ]
  },
  {
   "cell_type": "markdown",
   "id": "7b4d2ca3",
   "metadata": {},
   "source": []
  },
  {
   "cell_type": "code",
   "execution_count": null,
   "id": "140beedf",
   "metadata": {},
   "outputs": [],
   "source": []
  }
 ],
 "metadata": {
  "kernelspec": {
   "display_name": "youngwon",
   "language": "python",
   "name": "python3"
  },
  "language_info": {
   "codemirror_mode": {
    "name": "ipython",
    "version": 3
   },
   "file_extension": ".py",
   "mimetype": "text/x-python",
   "name": "python",
   "nbconvert_exporter": "python",
   "pygments_lexer": "ipython3",
   "version": "3.9.23"
  }
 },
 "nbformat": 4,
 "nbformat_minor": 5
}
